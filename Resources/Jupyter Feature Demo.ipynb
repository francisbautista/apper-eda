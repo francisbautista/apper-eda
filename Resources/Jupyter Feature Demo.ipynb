{
 "cells": [
  {
   "cell_type": "markdown",
   "metadata": {},
   "source": [
    "# This is Markdown Heading 1\n",
    "## This is a less loud Markdown Heading 2\n",
    "### This is still loud, but not as loud as the prior two. Markdown Heading 3.\n",
    "---\n",
    "\n",
    "Markdown is a **lightweight markup language with plain text formatting syntax**. It is designed so that it can be converted to HTML and many other formats using a tool by the same name. Markdown is often used to format readme files, for writing messages in online discussion forums, and to create rich text using a plain text editor."
   ]
  },
  {
   "cell_type": "code",
   "execution_count": 3,
   "metadata": {},
   "outputs": [
    {
     "name": "stdout",
     "output_type": "stream",
     "text": [
      "this is a code cell\n"
     ]
    }
   ],
   "source": [
    "print(\"this is a code cell\")"
   ]
  },
  {
   "cell_type": "raw",
   "metadata": {},
   "source": [
    "\"This is a raw text cell\""
   ]
  },
  {
   "cell_type": "markdown",
   "metadata": {},
   "source": [
    "**This is a bold text cell**"
   ]
  },
  {
   "cell_type": "markdown",
   "metadata": {},
   "source": [
    "### Text Formatting\n",
    "\n",
    "You can write plain old text here.\n",
    "\n",
    "*Or make it italicized,* **or bold**, `or as inline code`.\n",
    "\n",
    "Here's a bit of block code:\n",
    "\n",
    "```\n",
    "public class Main {\n",
    "    public static void main(String[] args) {\n",
    "        System.out.println(\"Hello, World!\");\n",
    "    }\n",
    "}\n",
    "```\n",
    "\n",
    "### Lists\n",
    "\n",
    "* One\n",
    "* Two\n",
    "* Three\n",
    "---\n",
    "1. Eggs\n",
    "2. Butter\n",
    "3. Salt and Pepper"
   ]
  },
  {
   "cell_type": "code",
   "execution_count": null,
   "metadata": {},
   "outputs": [],
   "source": []
  },
  {
   "cell_type": "markdown",
   "metadata": {},
   "source": [
    "### Code Demos"
   ]
  },
  {
   "cell_type": "markdown",
   "metadata": {},
   "source": [
    "Here are some demos for python and the functionality it has with Jupyter.Some of these bindings are unique, like that with matplotlib"
   ]
  },
  {
   "cell_type": "code",
   "execution_count": 6,
   "metadata": {},
   "outputs": [
    {
     "name": "stdout",
     "output_type": "stream",
     "text": [
      "[0, 4, 16]\n"
     ]
    }
   ],
   "source": [
    "# Prints \"[0, 4, 16]\"\n",
    "nums = [0, 1, 2, 3, 4]\n",
    "even_squares = [x ** 2 for x in nums if x % 2 == 0]\n",
    "print(even_squares)  "
   ]
  },
  {
   "cell_type": "code",
   "execution_count": 5,
   "metadata": {},
   "outputs": [],
   "source": [
    "import pandas as pd\n",
    "\n",
    "df = pd.read_csv(\"coffeeshops.csv\")"
   ]
  },
  {
   "cell_type": "code",
   "execution_count": 4,
   "metadata": {},
   "outputs": [
    {
     "data": {
      "text/html": [
       "<div>\n",
       "<style scoped>\n",
       "    .dataframe tbody tr th:only-of-type {\n",
       "        vertical-align: middle;\n",
       "    }\n",
       "\n",
       "    .dataframe tbody tr th {\n",
       "        vertical-align: top;\n",
       "    }\n",
       "\n",
       "    .dataframe thead th {\n",
       "        text-align: right;\n",
       "    }\n",
       "</style>\n",
       "<table border=\"1\" class=\"dataframe\">\n",
       "  <thead>\n",
       "    <tr style=\"text-align: right;\">\n",
       "      <th></th>\n",
       "      <th>id</th>\n",
       "      <th>name</th>\n",
       "      <th>lat</th>\n",
       "      <th>lng</th>\n",
       "      <th>checkins</th>\n",
       "      <th>address</th>\n",
       "    </tr>\n",
       "  </thead>\n",
       "  <tbody>\n",
       "    <tr>\n",
       "      <th>0</th>\n",
       "      <td>4b78d398f964a520cee32ee3</td>\n",
       "      <td>Starbucks Coffee</td>\n",
       "      <td>14.734710</td>\n",
       "      <td>121.057599</td>\n",
       "      <td>10428</td>\n",
       "      <td>Ground Flr, SM City Fairview (Annex 1)</td>\n",
       "    </tr>\n",
       "    <tr>\n",
       "      <th>1</th>\n",
       "      <td>53055beb498e87041e7204f9</td>\n",
       "      <td>Starbucks Coffee</td>\n",
       "      <td>14.735735</td>\n",
       "      <td>121.060213</td>\n",
       "      <td>3793</td>\n",
       "      <td>Fairview Terraces, Quirino Hwy</td>\n",
       "    </tr>\n",
       "    <tr>\n",
       "      <th>2</th>\n",
       "      <td>4bc1f1a6f8219c74a0f7b310</td>\n",
       "      <td>The Coffee Bean &amp; Tea Leaf</td>\n",
       "      <td>14.736308</td>\n",
       "      <td>121.058135</td>\n",
       "      <td>17441</td>\n",
       "      <td>G/F Gateway Mall, Gen Roxas Ave</td>\n",
       "    </tr>\n",
       "    <tr>\n",
       "      <th>3</th>\n",
       "      <td>4e5b077352b1b78b81b213b9</td>\n",
       "      <td>Starbucks Coffee</td>\n",
       "      <td>14.734639</td>\n",
       "      <td>121.059474</td>\n",
       "      <td>4116</td>\n",
       "      <td>2nd Flr, SM City Fairview (Main Bldg)</td>\n",
       "    </tr>\n",
       "    <tr>\n",
       "      <th>4</th>\n",
       "      <td>4ceb3522e888f04d2161516b</td>\n",
       "      <td>Starbucks Coffee</td>\n",
       "      <td>14.553593</td>\n",
       "      <td>121.050662</td>\n",
       "      <td>40149</td>\n",
       "      <td>Crossroads, Bonifacio Global City</td>\n",
       "    </tr>\n",
       "  </tbody>\n",
       "</table>\n",
       "</div>"
      ],
      "text/plain": [
       "                         id                        name        lat  \\\n",
       "0  4b78d398f964a520cee32ee3            Starbucks Coffee  14.734710   \n",
       "1  53055beb498e87041e7204f9            Starbucks Coffee  14.735735   \n",
       "2  4bc1f1a6f8219c74a0f7b310  The Coffee Bean & Tea Leaf  14.736308   \n",
       "3  4e5b077352b1b78b81b213b9            Starbucks Coffee  14.734639   \n",
       "4  4ceb3522e888f04d2161516b            Starbucks Coffee  14.553593   \n",
       "\n",
       "          lng  checkins                                 address  \n",
       "0  121.057599     10428  Ground Flr, SM City Fairview (Annex 1)  \n",
       "1  121.060213      3793          Fairview Terraces, Quirino Hwy  \n",
       "2  121.058135     17441         G/F Gateway Mall, Gen Roxas Ave  \n",
       "3  121.059474      4116   2nd Flr, SM City Fairview (Main Bldg)  \n",
       "4  121.050662     40149       Crossroads, Bonifacio Global City  "
      ]
     },
     "execution_count": 4,
     "metadata": {},
     "output_type": "execute_result"
    }
   ],
   "source": [
    "df.head()"
   ]
  },
  {
   "cell_type": "code",
   "execution_count": null,
   "metadata": {
    "collapsed": true,
    "jupyter": {
     "outputs_hidden": true
    }
   },
   "outputs": [],
   "source": []
  },
  {
   "cell_type": "code",
   "execution_count": 7,
   "metadata": {},
   "outputs": [
    {
     "data": {
      "text/plain": [
       "Text(0.5, 0, 'The X Label')"
      ]
     },
     "execution_count": 7,
     "metadata": {},
     "output_type": "execute_result"
    },
    {
     "data": {
      "image/png": "[encoded data removed]",
      "text/plain": [
       "<Figure size 432x288 with 1 Axes>"
      ]
     },
     "metadata": {},
     "output_type": "display_data"
    }
   ],
   "source": [
    "%matplotlib inline\n",
    "\n",
    "import numpy as np\n",
    "import matplotlib.pyplot as plt\n",
    "\n",
    "x = np.arange(0,30)\n",
    "a = np.arange(10,40)\n",
    "b = [b**2 for b in range(0,30)]\n",
    "c = [100 for c in range(0,30)]\n",
    "\n",
    "plt.style.use('fivethirtyeight')\n",
    "\n",
    "plt.title(\"Some Functions\")\n",
    "plt.plot(x,a, label='linear')\n",
    "plt.plot(x,b, label='exponential')\n",
    "plt.plot(x,c, label='flat')\n",
    "plt.legend(loc='upper left', frameon=True)\n",
    "plt.ylabel('The Y Label')\n",
    "plt.xlabel('The X Label')"
   ]
  },
  {
   "cell_type": "code",
   "execution_count": 9,
   "metadata": {},
   "outputs": [
    {
     "data": {
      "text/plain": [
       "Text(0.5, 0, 'The X Label')"
      ]
     },
     "execution_count": 9,
     "metadata": {},
     "output_type": "execute_result"
    },
    {
     "data": {
      "image/png": "[encoded data removed]",
      "text/plain": [
       "<Figure size 864x720 with 1 Axes>"
      ]
     },
     "metadata": {},
     "output_type": "display_data"
    }
   ],
   "source": [
    "plt.figure(figsize=(12,10))\n",
    "\n",
    "plt.title(\"Some Functions\")\n",
    "plt.plot(x,a, label='linear')\n",
    "plt.plot(x,b, label='exponential')\n",
    "plt.plot(x,c, label='flat')\n",
    "plt.legend(loc='upper left', frameon=True)\n",
    "plt.ylabel('The Y Label')\n",
    "plt.xlabel('The X Label')"
   ]
  },
  {
   "cell_type": "markdown",
   "metadata": {},
   "source": [
    "### Jupyter Magics\n",
    "Magics are extra features by Jupyter. This carries over from its IPython terminal history."
   ]
  },
  {
   "cell_type": "code",
   "execution_count": 14,
   "metadata": {},
   "outputs": [
    {
     "name": "stdout",
     "output_type": "stream",
     "text": [
      "francis\n",
      "/Users/francis/Indigo/apper_eda-main/Resources\n",
      "total 9664\n",
      "drwxrwxr-x@ 18 francis  staff      576 Mar 24 09:44 .\n",
      "drwxrwxr-x@  6 francis  staff      192 Mar 23 23:00 ..\n",
      "-rw-rw-r--@  1 francis  staff     6148 Mar 18  2021 .DS_Store\n",
      "drwxr-xr-x  12 francis  staff      384 Mar 24 09:17 .ipynb_checkpoints\n",
      "-rw-rw-r--@  1 francis  staff     6797 Mar 24 09:38 BasicPython01.ipynb\n",
      "-rw-rw-r--@  1 francis  staff    12379 Mar 24 09:19 BasicPython02.ipynb\n",
      "-rw-rw-r--@  1 francis  staff     3101 Mar 18  2021 BasicPython03.ipynb\n",
      "-rw-rw-r--@  1 francis  staff     7152 Mar 18  2021 BasicPython04.ipynb\n",
      "-rw-rw-r--@  1 francis  staff    10100 Mar 24 09:29 BasicPython05.ipynb\n",
      "-rw-rw-r--@  1 francis  staff    21769 Sep  7  2021 Intro-to-Python.ipynb\n",
      "-rw-rw-r--@  1 francis  staff    88812 Mar 24 09:44 Jupyter Feature Demo.ipynb\n",
      "-rw-rw-r--@  1 francis  staff   432416 Jul 16  2021 Matplotlib.ipynb\n",
      "-rw-rw-r--@  1 francis  staff    18577 Sep 14  2021 Numpy.ipynb\n",
      "-rw-rw-r--@  1 francis  staff  1113540 Mar 18  2021 Pandas + Folium Demo.ipynb\n",
      "-rw-rw-r--@  1 francis  staff   667147 Sep 14  2021 Pandas Demo.ipynb\n",
      "-rw-rw-r--@  1 francis  staff  1965199 Mar 18  2021 Pandas-Intro.ipynb\n",
      "-rw-rw-r--@  1 francis  staff     3155 Mar 18  2021 coffee_shops_dark.html\n",
      "-rw-rw-r--@  1 francis  staff   568225 Mar 18  2021 coffeeshops.csv\n"
     ]
    }
   ],
   "source": [
    "%%bash\n",
    "\n",
    "whoami\n",
    "\n",
    "pwd\n",
    "\n",
    "ls -la"
   ]
  },
  {
   "cell_type": "markdown",
   "metadata": {},
   "source": [
    "### Some More Magic\n",
    "\n",
    "It supports LaTeX, but for the other LaTeX features like tables or reference, it might be good to look into `IPython.display.Latex` for added functionality.\n",
    "\n",
    "----\n",
    "\n",
    "*Roots and Squares*\n",
    "$$c = \\sqrt{a^2 + b^2}$$\n",
    "\n",
    "*Integrals*\n",
    "$$ Integral \\int_{a}^{b} x^2 dx$$\n",
    "\n",
    "*Summations*\n",
    "$$\\sum_{n=1}^{\\infty} 2^{-n} = 1$$\n",
    "\n",
    "*Limits*\n",
    "$$\\lim_{x\\to\\infty} f(x)$$"
   ]
  },
  {
   "cell_type": "code",
   "execution_count": 15,
   "metadata": {},
   "outputs": [
    {
     "data": {
      "text/latex": [
       "\n",
       "\\begin{align}\n",
       "a = \\frac{1}{2} && b = \\frac{3}{4} && c = \\sqrt{a^2 + b^2}\n",
       "\\end{align}\n"
      ],
      "text/plain": [
       "<IPython.core.display.Latex object>"
      ]
     },
     "metadata": {},
     "output_type": "display_data"
    }
   ],
   "source": [
    "%%latex\n",
    "\n",
    "\\begin{align}\n",
    "a = \\frac{1}{2} && b = \\frac{3}{4} && c = \\sqrt{a^2 + b^2}\n",
    "\\end{align}"
   ]
  },
  {
   "cell_type": "markdown",
   "metadata": {},
   "source": [
    "#### Cross Product Formula\n"
   ]
  },
  {
   "cell_type": "code",
   "execution_count": 16,
   "metadata": {},
   "outputs": [
    {
     "data": {
      "text/latex": [
       "\\begin{equation*}\n",
       "\\mathbf{V}_1 \\times \\mathbf{V}_2 =  \\begin{vmatrix}\n",
       "\\mathbf{i} & \\mathbf{j} & \\mathbf{k} \\\\\n",
       "\\frac{\\partial X}{\\partial u} &  \\frac{\\partial Y}{\\partial u} & 0 \\\\\n",
       "\\frac{\\partial X}{\\partial v} &  \\frac{\\partial Y}{\\partial v} & 0\n",
       "\\end{vmatrix}\n",
       "\\end{equation*}\n"
      ],
      "text/plain": [
       "<IPython.core.display.Latex object>"
      ]
     },
     "metadata": {},
     "output_type": "display_data"
    }
   ],
   "source": [
    "%%latex\n",
    "\\begin{equation*}\n",
    "\\mathbf{V}_1 \\times \\mathbf{V}_2 =  \\begin{vmatrix}\n",
    "\\mathbf{i} & \\mathbf{j} & \\mathbf{k} \\\\\n",
    "\\frac{\\partial X}{\\partial u} &  \\frac{\\partial Y}{\\partial u} & 0 \\\\\n",
    "\\frac{\\partial X}{\\partial v} &  \\frac{\\partial Y}{\\partial v} & 0\n",
    "\\end{vmatrix}\n",
    "\\end{equation*}"
   ]
  },
  {
   "cell_type": "markdown",
   "metadata": {},
   "source": [
    "#### Inline TeX entries"
   ]
  },
  {
   "cell_type": "code",
   "execution_count": 11,
   "metadata": {},
   "outputs": [
    {
     "data": {
      "text/latex": [
       "This expression $\\sqrt{3x-1}+(1+x)^2$ is an example of a TeX inline equation in a text block.\n"
      ],
      "text/plain": [
       "<IPython.core.display.Latex object>"
      ]
     },
     "metadata": {},
     "output_type": "display_data"
    }
   ],
   "source": [
    "%%latex\n",
    "This expression $\\sqrt{3x-1}+(1+x)^2$ is an example of a TeX inline equation in a text block."
   ]
  },
  {
   "cell_type": "markdown",
   "metadata": {},
   "source": [
    "### Widgets\n",
    "Jupyter has interfaces for input called widgets. These are best used with graphs and plots where custom input data is required. \n",
    "\n",
    "You can use widgets to build interactive GUIs for your notebooks when hosting them online. Widgets are also useful in syncing stateful and stateless information between Python and JavaScript.\n",
    "\n",
    "![alt text](assets/widgets.png)"
   ]
  },
  {
   "cell_type": "code",
   "execution_count": 5,
   "metadata": {},
   "outputs": [
    {
     "data": {
      "application/vnd.jupyter.widget-view+json": {
       "model_id": "5e548c2750df4ed9ae7e4bb8b33189d0",
       "version_major": 2,
       "version_minor": 0
      },
      "text/plain": [
       "IntSlider(value=0)"
      ]
     },
     "metadata": {},
     "output_type": "display_data"
    }
   ],
   "source": [
    "from ipywidgets import *\n",
    "\n",
    "from IPython.display import display\n",
    "w = IntSlider()\n",
    "display(w)"
   ]
  },
  {
   "cell_type": "code",
   "execution_count": 6,
   "metadata": {},
   "outputs": [
    {
     "data": {
      "text/plain": [
       "65"
      ]
     },
     "execution_count": 6,
     "metadata": {},
     "output_type": "execute_result"
    }
   ],
   "source": [
    "w.value"
   ]
  },
  {
   "cell_type": "code",
   "execution_count": 7,
   "metadata": {},
   "outputs": [
    {
     "data": {
      "application/vnd.jupyter.widget-view+json": {
       "model_id": "16a1f99805e84535b49468f8bdf2b157",
       "version_major": 2,
       "version_minor": 0
      },
      "text/plain": [
       "Text(value='some text')"
      ]
     },
     "metadata": {},
     "output_type": "display_data"
    }
   ],
   "source": [
    "t = Text(value='some text')\n",
    "display(t)"
   ]
  },
  {
   "cell_type": "code",
   "execution_count": 8,
   "metadata": {},
   "outputs": [],
   "source": [
    "l = t.value.split(\" \")"
   ]
  },
  {
   "cell_type": "code",
   "execution_count": 9,
   "metadata": {},
   "outputs": [
    {
     "data": {
      "text/plain": [
       "['\"I', 'like', 'cold', 'weather\"']"
      ]
     },
     "execution_count": 9,
     "metadata": {},
     "output_type": "execute_result"
    }
   ],
   "source": [
    "l"
   ]
  },
  {
   "cell_type": "code",
   "execution_count": 16,
   "metadata": {},
   "outputs": [
    {
     "data": {
      "text/plain": [
       "[1, 2, 3, 4, 5]"
      ]
     },
     "execution_count": 16,
     "metadata": {},
     "output_type": "execute_result"
    }
   ],
   "source": [
    "m"
   ]
  },
  {
   "cell_type": "code",
   "execution_count": 18,
   "metadata": {
    "collapsed": true,
    "jupyter": {
     "outputs_hidden": true
    }
   },
   "outputs": [],
   "source": [
    "p = []\n",
    "for x in l:\n",
    "    p.append(int(x))"
   ]
  },
  {
   "cell_type": "code",
   "execution_count": 19,
   "metadata": {},
   "outputs": [
    {
     "data": {
      "text/plain": [
       "[1, 2, 3, 4, 5]"
      ]
     },
     "execution_count": 19,
     "metadata": {},
     "output_type": "execute_result"
    }
   ],
   "source": [
    "p"
   ]
  },
  {
   "cell_type": "code",
   "execution_count": 26,
   "metadata": {
    "collapsed": true,
    "jupyter": {
     "outputs_hidden": true
    }
   },
   "outputs": [],
   "source": [
    "a = \"apple\""
   ]
  },
  {
   "cell_type": "code",
   "execution_count": null,
   "metadata": {
    "collapsed": true,
    "jupyter": {
     "outputs_hidden": true
    }
   },
   "outputs": [],
   "source": []
  },
  {
   "cell_type": "markdown",
   "metadata": {},
   "source": [
    "### Exporting the notebook to other formats\n",
    "\n",
    "Currently, nbconvert is provided as a command line tool, run as a script using IPython. A direct export capability from within the IPython Notebook web app is planned.\n",
    "\n",
    "`$ ipython nbconvert --to FORMAT notebook.ipynb`"
   ]
  },
  {
   "cell_type": "code",
   "execution_count": 10,
   "metadata": {},
   "outputs": [
    {
     "data": {
      "application/vnd.jupyter.widget-view+json": {
       "model_id": "a55df7c3637c4051b68b6a4d93cd596a",
       "version_major": 2,
       "version_minor": 0
      },
      "text/plain": [
       "Button(description='Text Something!', style=ButtonStyle())"
      ]
     },
     "metadata": {},
     "output_type": "display_data"
    },
    {
     "data": {
      "application/vnd.jupyter.widget-view+json": {
       "model_id": "9bd46c4cc44b445da58627a564507663",
       "version_major": 2,
       "version_minor": 0
      },
      "text/plain": [
       "Button(description='Text Something Part 2', style=ButtonStyle())"
      ]
     },
     "metadata": {},
     "output_type": "display_data"
    }
   ],
   "source": [
    "i = 1\n",
    "from IPython.display import display\n",
    "button = widgets.Button(description=\"Text Something!\")\n",
    "button2 = widgets.Button(description=\"Text Something Part 2\")\n",
    "display(button)\n",
    "display(button2)\n",
    "\n",
    "\n",
    "def on_button_clicked(b):\n",
    "    print(i)\n",
    "\n",
    "def on_button_clicked2(b):\n",
    "    %reset\n",
    "    print(\"Button clicked 2.\")\n",
    "\n",
    "button.on_click(on_button_clicked)\n",
    "button2.on_click(on_button_clicked2)"
   ]
  },
  {
   "cell_type": "code",
   "execution_count": null,
   "metadata": {
    "collapsed": true,
    "jupyter": {
     "outputs_hidden": true
    }
   },
   "outputs": [],
   "source": []
  },
  {
   "cell_type": "code",
   "execution_count": null,
   "metadata": {
    "collapsed": true,
    "jupyter": {
     "outputs_hidden": true
    }
   },
   "outputs": [],
   "source": []
  }
 ],
 "metadata": {
  "kernelspec": {
   "display_name": "Python 3",
   "language": "python",
   "name": "python3"
  },
  "language_info": {
   "codemirror_mode": {
    "name": "ipython",
    "version": 3
   },
   "file_extension": ".py",
   "mimetype": "text/x-python",
   "name": "python",
   "nbconvert_exporter": "python",
   "pygments_lexer": "ipython3",
   "version": "3.9.0"
  },
  "widgets": {
   "state": {
    "14895477cea843f7ba1dd53d608d7799": {
     "views": [
      {
       "cell_index": 17
      }
     ]
    },
    "924fbe74983d40ddac505403d704371f": {
     "views": [
      {
       "cell_index": 19
      }
     ]
    }
   },
   "version": "1.2.0"
  }
 },
 "nbformat": 4,
 "nbformat_minor": 4
}
