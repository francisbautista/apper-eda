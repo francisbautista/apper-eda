{
 "cells": [
  {
   "cell_type": "markdown",
   "metadata": {},
   "source": [
    "# Problem Set 2 CS174\n",
    "---\n",
    "The following problem set will focus on the lessons on Numpy and advanced Python functions. Answer the following guide questions by writing functions or code in cells that accomplish the requirements.\n",
    "\n",
    "1. Create a function that takes in 3 parameters (integer n, integer a, integer b), and generates an nxn numpy matrix with random values from the range a to b inclusive. **2 pts.**\n",
    "\n",
    "2. Write a function that checks whether a number is prime or not **1 pt.**\n",
    "\n",
    "3. Load `data/allstar.txt` and create a dictionary where the keys are the verses or chorus numbers, and the values are the chords for that part of the song. **4 pts.**\n",
    "`{ \"verse1\": \"Am, C, D, G, F, G, G, Bm\", \"chorus1\": \"C, Am, G, D, C, Am, G, D, C\"..}`\n",
    "\n",
    "4. Build a dictionary from `data/allstar.txt` where the keys are the unique words, and the values are the number of times the word appeared in the song. **4 pts.**\n",
    "\n",
    "5. Load `Rick Astley - Never Gonna Give You Up Lyrics _ AZLyrics.com.html` and find out the ff (show the code): **10 pts.**\n",
    "       - How many unique words are there?\n",
    "       - List what will Rick Astley never do?\n",
    "       - Write a function that lists all the unique words and counts the num of occurences. Output the result as a dictionary similar to **Item 4.**\n",
    "       - Use the dictionary from above to create a word count histogram.\n",
    "       \n",
    "### Bonus:\n",
    "Compare any non-English song (as long as lyrics are Romanized ) and a contemporary one in English, and create word frequency histograms of both. Compare and discuss any interesting findings or insights. **5 pts.**"
   ]
  },
  {
   "cell_type": "code",
   "execution_count": 52,
   "metadata": {},
   "outputs": [],
   "source": [
    "with open('data/networks.txt', 'r') as file:\n",
    "    data = file.read().replace('\\n', '')"
   ]
  },
  {
   "cell_type": "code",
   "execution_count": 46,
   "metadata": {},
   "outputs": [],
   "source": [
    "with open('data/stop.txt', 'r') as file:\n",
    "    stop = file.read().replace('\\n', '')"
   ]
  },
  {
   "cell_type": "code",
   "execution_count": 47,
   "metadata": {},
   "outputs": [],
   "source": [
    "words = data.split()\n",
    "for word in list(words):  # iterating on a copy since removing will mess things up\n",
    "    if word in stop:\n",
    "        words.remove(word)"
   ]
  },
  {
   "cell_type": "code",
   "execution_count": 48,
   "metadata": {},
   "outputs": [
    {
     "name": "stdout",
     "output_type": "stream",
     "text": [
      "[('networks', 12), ('users', 12), ('security', 11), ('network', 10), ('due', 8), ('going', 7), ('never', 6), ('time', 6), ('This', 6), ('files', 6), ('also', 6), ('file', 6), ('network.', 5), ('networks,', 5), ('computers', 5)]\n"
     ]
    }
   ],
   "source": [
    "# most_common() produces k frequently encountered \n",
    "# input values and their respective counts. \n",
    "most_occur = Counter.most_common(15) \n",
    "  \n",
    "print(most_occur) "
   ]
  },
  {
   "cell_type": "code",
   "execution_count": 53,
   "metadata": {},
   "outputs": [
    {
     "data": {
      "text/plain": [
       "'Disadvantages and advantages of networks Since the first concoction of a nexus of computational processing power in the late 1960s, never has the practicality of networks been bought into question due to the advancements of on going assemblages intimations for the ever changing cycle of headway to the modern day network. Providing valuable resources to organisations, innumerable technicians give their time to creating and perfectinga cornucopia of networks. The advantages of networks are prominent and numerous, and very well documented. So you mightbs a.sklng yourselfwhythere isdebate over aspectsof networks, from home networks upto large corporate networks. This is due to the widespread fear that networksare essentially never safe, due to the interlacingof computers providing an ideal environment for viruses which are goingto loophole to contaminate multiple computers, which ultimately prevails to high costs for companies. Once one computer in a network is infected, the virus can competently let itself in to other computers on the network; it only takes one computer linked to yours to infect you. This has led to concerns over the security of organisations havinga system which can be taken down with just one file. However, networks are frequently used without such problems, as multifarious companies never get infected due to the right hardware and software, infections can be avoided as firewalls are going to block unwanted access. However, the cardinal advantage of networking is transferring files to other computers on the network. This is beneficialto companies where manualfile sharing has run its course and become impractical to maintain, due to the amountoftime it takes for files to get around employees. In addition to this, many people can accessa particular database at a single time and update it simultaneously, which keeps it up-to-date. Usinga network based database, users can desert the system while another user maintains the system, a process made significantly harder if you are using standalone computers, so users are more free time to spare time they would probably never have had if using individual databases. Multiple users can also track changes on documents, going into the shared drive to access the same file other users have open. This is particularly useful to conferences, where people working in different locations can work on the same document, and make changes which are updated in real time over WAN. Similarly, you can make files read only, so you can stop other changes, while allowing them to view the file easily. Users can gyout for technical helpto, using simple IM protocolsovera network. Another advantage of networks is the ability to share resources; expensive printers would never be given to individual employees of a company, but with networking, thatone laser printer is going to be shared among dozens of users, decreasing overall costs and counteracting the costly sum to set up the network. This initial sum increases as the size of the network increases, but users often say that it is well worth the cost, as the advanced technology essentially means users can say goodbye to transferring external memory and cross over into a system where file sharing speeds never decrease so longas it is maintained, and due to the nature of networking solutions, always going to see new advancements in technology. In a system of standalone computers, all files are saved on individual hard drives, and have to be transferred to new devices if the computersare upgraded. But in networks, the file server can tellthe new computer everything that was saved on their user account, which ultimately means that a complete file transfer is not needed. The belief thatdocumentsare saved on local hard drives is a lie, however software common to all computers on the network is saved on the drive; both software and the operating system need to be saved locally to ensure computers run at a reasonable speed. Hurtcomputerscan be removed for repair easily due to the network, as the file server ensures that you and other userscan still access files easily. Great Britain has recently begun to understand the problems facinggovernment networks; we\\'ve invested E500million into upgrading the security of defence networks, which is currently known to be susceptible tocyber attacks. This is a major disadvantage of large, private networks, as each security measure has to be addressed to avoid a catastrophe, costing money which could go to other causes. Security issues are commonly investigated by a third party, who \"hack\" the network for the networkowner, establish the problems efficiently, and quickly patch any security loopholes, so the network is not susceptible to any viruses, backdoor Trojans and other security problems for a long time as hacking technology advances faster than the network security. ultimately, the riskof your network being hacked decreases if network security is updated regularly, while the network heart\\' s kept protected consistently provided it is up-to-date. However, this process is known to have been expensive, which adds more costs to the network. While internetconnectionscan be established through individual routers, users are often aching for faster speeds, and networks using a router and dedicated line provide these fast speeds; butagain, the cost of setting this up is high. However, ifyou a part of an online company, it is likely you\\' re going to recuperate these costs with faster speeds, increasing income; websites which are too slow for users is unlikely to profit, and cannot work well with other companies. Networks that shy away from faster broadband speeds are therefore likely to profit less. File networks accessed by multiple users can easily establish variegating levels of privileges to different users, which means thatcertain groups of users can only gain access to what the admins say they need access to, preventing privacy issues of users backing data up one external hard drives. It also means that higher level users, such as CEOs, can access employee files where needed, to look inside their documents in cases of suspicious activity in the workplace. Worldwide, companies are aware of the possibilities of network, and the security problems. We as users of these networks also understand the consequences of getting viruses on networks, as both security and common sense are needed to avoid security breaches. Modern companies also know the advancements of present networking technology, and how this upcoming technology is what\\' s going to define the way organisations work in the future. Many networks have also already been subject to security problems, and it\\' s due to these problems that security on other networks is goingto advance, while also becomingcheaperfor smaller businesses. on, and networks will one day be accessible for all to create.'"
      ]
     },
     "execution_count": 53,
     "metadata": {},
     "output_type": "execute_result"
    }
   ],
   "source": [
    "data"
   ]
  },
  {
   "cell_type": "code",
   "execution_count": null,
   "metadata": {},
   "outputs": [],
   "source": []
  }
 ],
 "metadata": {
  "kernelspec": {
   "display_name": "Python 3",
   "language": "python",
   "name": "python3"
  },
  "language_info": {
   "codemirror_mode": {
    "name": "ipython",
    "version": 3
   },
   "file_extension": ".py",
   "mimetype": "text/x-python",
   "name": "python",
   "nbconvert_exporter": "python",
   "pygments_lexer": "ipython3",
   "version": "3.8.0"
  }
 },
 "nbformat": 4,
 "nbformat_minor": 4
}
