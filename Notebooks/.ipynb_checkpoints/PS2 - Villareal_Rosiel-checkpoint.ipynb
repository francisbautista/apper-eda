{
 "cells": [
  {
   "cell_type": "markdown",
   "metadata": {},
   "source": [
    "# EDA Problem Set 2\n",
    "**Submitted by: Rosiel Jazmine T. Villareal**\n",
    "\n",
    "The following problem set will revolve around the Pokemon stats dataset.\n",
    "The dataset `data/Pokemon.csv` has **721** rows and **27** columns. Not all columns are needed for the questions to be asked.\n"
   ]
  },
  {
   "cell_type": "markdown",
   "metadata": {},
   "source": [
    "## Requirements\n",
    "\n",
    "\n",
    ">Gotta catch 'em all.\n",
    "\n",
    "Using the lessons on Logistic Regression, and the other resource notebooks, show the following in this Jupyter Notebook.\n",
    "\n",
    "Write your answers down as Markdown cells or comments in the code.\n",
    "\n",
    "1. How many Legendary Pokemon are there? ( 1pt )\n",
    "\n",
    "2. Who is the Pokemon with the highest attack-to-HP ratio? (Tip: Just get the divide attack by HP) ( 3pts )\n",
    "\n",
    "3. Build a binary classifier for whether Pokemon are Fire Type or not. ( 4pts )\n",
    "\n",
    "4. Describe the attributes and stats of all Legendary Type pokemon using boxplots. ( 5pts )\n",
    "\n",
    "5. Solve for the probabilities of each Pokemon being a Fire Type. ( 2pts )\n",
    "\n",
    "6. What is the accuracy of your model?( 2pts )\n",
    "\n",
    "7. Apply upsampling for the minority class that is Fire Type and show the change in Accuracy and Precision. ( 3pts )\n",
    "\n",
    "\n",
    "\n",
    "-----\n",
    "\n",
    "\n",
    "Bonus 1 : What is the difference between machine learning and pattern recognition? (1pt)\n",
    "\n",
    "Bonus 2:  Who is your favorite Pokemon?\n",
    "\n",
    "----"
   ]
  },
  {
   "cell_type": "code",
   "execution_count": 1,
   "metadata": {},
   "outputs": [],
   "source": [
    "%matplotlib inline\n",
    "\n",
    "import matplotlib.pylab as plt\n",
    "import seaborn as sns\n",
    "\n",
    "import numpy as np\n",
    "import pandas as pd\n",
    "\n",
    "from sklearn.preprocessing import StandardScaler\n",
    "from sklearn.linear_model import LogisticRegression\n",
    "from sklearn.model_selection import train_test_split\n",
    "from sklearn.utils import resample\n",
    "from sklearn import metrics"
   ]
  },
  {
   "cell_type": "code",
   "execution_count": 2,
   "metadata": {},
   "outputs": [],
   "source": [
    "pd.set_option('display.max_rows', 100)"
   ]
  },
  {
   "cell_type": "code",
   "execution_count": 3,
   "metadata": {},
   "outputs": [],
   "source": [
    "df = pd.read_csv(\"data/Pokemon.csv\")"
   ]
  },
  {
   "cell_type": "code",
   "execution_count": 4,
   "metadata": {},
   "outputs": [
    {
     "data": {
      "text/html": [
       "<div>\n",
       "<style scoped>\n",
       "    .dataframe tbody tr th:only-of-type {\n",
       "        vertical-align: middle;\n",
       "    }\n",
       "\n",
       "    .dataframe tbody tr th {\n",
       "        vertical-align: top;\n",
       "    }\n",
       "\n",
       "    .dataframe thead th {\n",
       "        text-align: right;\n",
       "    }\n",
       "</style>\n",
       "<table border=\"1\" class=\"dataframe\">\n",
       "  <thead>\n",
       "    <tr style=\"text-align: right;\">\n",
       "      <th></th>\n",
       "      <th>0</th>\n",
       "      <th>1</th>\n",
       "      <th>2</th>\n",
       "      <th>3</th>\n",
       "      <th>4</th>\n",
       "    </tr>\n",
       "  </thead>\n",
       "  <tbody>\n",
       "    <tr>\n",
       "      <th>Number</th>\n",
       "      <td>1</td>\n",
       "      <td>2</td>\n",
       "      <td>3</td>\n",
       "      <td>4</td>\n",
       "      <td>5</td>\n",
       "    </tr>\n",
       "    <tr>\n",
       "      <th>Name</th>\n",
       "      <td>Bulbasaur</td>\n",
       "      <td>Ivysaur</td>\n",
       "      <td>Venusaur</td>\n",
       "      <td>Charmander</td>\n",
       "      <td>Charmeleon</td>\n",
       "    </tr>\n",
       "    <tr>\n",
       "      <th>Type_1</th>\n",
       "      <td>Grass</td>\n",
       "      <td>Grass</td>\n",
       "      <td>Grass</td>\n",
       "      <td>Fire</td>\n",
       "      <td>Fire</td>\n",
       "    </tr>\n",
       "    <tr>\n",
       "      <th>Type_2</th>\n",
       "      <td>Poison</td>\n",
       "      <td>Poison</td>\n",
       "      <td>Poison</td>\n",
       "      <td>NaN</td>\n",
       "      <td>NaN</td>\n",
       "    </tr>\n",
       "    <tr>\n",
       "      <th>Total</th>\n",
       "      <td>318</td>\n",
       "      <td>405</td>\n",
       "      <td>525</td>\n",
       "      <td>309</td>\n",
       "      <td>405</td>\n",
       "    </tr>\n",
       "    <tr>\n",
       "      <th>HP</th>\n",
       "      <td>45</td>\n",
       "      <td>60</td>\n",
       "      <td>80</td>\n",
       "      <td>39</td>\n",
       "      <td>58</td>\n",
       "    </tr>\n",
       "    <tr>\n",
       "      <th>Attack</th>\n",
       "      <td>49</td>\n",
       "      <td>62</td>\n",
       "      <td>82</td>\n",
       "      <td>52</td>\n",
       "      <td>64</td>\n",
       "    </tr>\n",
       "    <tr>\n",
       "      <th>Defense</th>\n",
       "      <td>49</td>\n",
       "      <td>63</td>\n",
       "      <td>83</td>\n",
       "      <td>43</td>\n",
       "      <td>58</td>\n",
       "    </tr>\n",
       "    <tr>\n",
       "      <th>Sp_Atk</th>\n",
       "      <td>65</td>\n",
       "      <td>80</td>\n",
       "      <td>100</td>\n",
       "      <td>60</td>\n",
       "      <td>80</td>\n",
       "    </tr>\n",
       "    <tr>\n",
       "      <th>Sp_Def</th>\n",
       "      <td>65</td>\n",
       "      <td>80</td>\n",
       "      <td>100</td>\n",
       "      <td>50</td>\n",
       "      <td>65</td>\n",
       "    </tr>\n",
       "    <tr>\n",
       "      <th>Speed</th>\n",
       "      <td>45</td>\n",
       "      <td>60</td>\n",
       "      <td>80</td>\n",
       "      <td>65</td>\n",
       "      <td>80</td>\n",
       "    </tr>\n",
       "    <tr>\n",
       "      <th>Generation</th>\n",
       "      <td>1</td>\n",
       "      <td>1</td>\n",
       "      <td>1</td>\n",
       "      <td>1</td>\n",
       "      <td>1</td>\n",
       "    </tr>\n",
       "    <tr>\n",
       "      <th>isLegendary</th>\n",
       "      <td>False</td>\n",
       "      <td>False</td>\n",
       "      <td>False</td>\n",
       "      <td>False</td>\n",
       "      <td>False</td>\n",
       "    </tr>\n",
       "    <tr>\n",
       "      <th>Color</th>\n",
       "      <td>Green</td>\n",
       "      <td>Green</td>\n",
       "      <td>Green</td>\n",
       "      <td>Red</td>\n",
       "      <td>Red</td>\n",
       "    </tr>\n",
       "    <tr>\n",
       "      <th>hasGender</th>\n",
       "      <td>True</td>\n",
       "      <td>True</td>\n",
       "      <td>True</td>\n",
       "      <td>True</td>\n",
       "      <td>True</td>\n",
       "    </tr>\n",
       "    <tr>\n",
       "      <th>Pr_Male</th>\n",
       "      <td>0.875</td>\n",
       "      <td>0.875</td>\n",
       "      <td>0.875</td>\n",
       "      <td>0.875</td>\n",
       "      <td>0.875</td>\n",
       "    </tr>\n",
       "    <tr>\n",
       "      <th>Egg_Group_1</th>\n",
       "      <td>Monster</td>\n",
       "      <td>Monster</td>\n",
       "      <td>Monster</td>\n",
       "      <td>Monster</td>\n",
       "      <td>Monster</td>\n",
       "    </tr>\n",
       "    <tr>\n",
       "      <th>Egg_Group_2</th>\n",
       "      <td>Grass</td>\n",
       "      <td>Grass</td>\n",
       "      <td>Grass</td>\n",
       "      <td>Dragon</td>\n",
       "      <td>Dragon</td>\n",
       "    </tr>\n",
       "    <tr>\n",
       "      <th>hasMegaEvolution</th>\n",
       "      <td>False</td>\n",
       "      <td>False</td>\n",
       "      <td>True</td>\n",
       "      <td>False</td>\n",
       "      <td>False</td>\n",
       "    </tr>\n",
       "    <tr>\n",
       "      <th>Height_m</th>\n",
       "      <td>0.71</td>\n",
       "      <td>0.99</td>\n",
       "      <td>2.01</td>\n",
       "      <td>0.61</td>\n",
       "      <td>1.09</td>\n",
       "    </tr>\n",
       "    <tr>\n",
       "      <th>Weight_kg</th>\n",
       "      <td>6.9</td>\n",
       "      <td>13</td>\n",
       "      <td>100</td>\n",
       "      <td>8.5</td>\n",
       "      <td>19</td>\n",
       "    </tr>\n",
       "    <tr>\n",
       "      <th>Catch_Rate</th>\n",
       "      <td>45</td>\n",
       "      <td>45</td>\n",
       "      <td>45</td>\n",
       "      <td>45</td>\n",
       "      <td>45</td>\n",
       "    </tr>\n",
       "    <tr>\n",
       "      <th>Body_Style</th>\n",
       "      <td>quadruped</td>\n",
       "      <td>quadruped</td>\n",
       "      <td>quadruped</td>\n",
       "      <td>bipedal_tailed</td>\n",
       "      <td>bipedal_tailed</td>\n",
       "    </tr>\n",
       "  </tbody>\n",
       "</table>\n",
       "</div>"
      ],
      "text/plain": [
       "                          0          1          2               3  \\\n",
       "Number                    1          2          3               4   \n",
       "Name              Bulbasaur    Ivysaur   Venusaur      Charmander   \n",
       "Type_1                Grass      Grass      Grass            Fire   \n",
       "Type_2               Poison     Poison     Poison             NaN   \n",
       "Total                   318        405        525             309   \n",
       "HP                       45         60         80              39   \n",
       "Attack                   49         62         82              52   \n",
       "Defense                  49         63         83              43   \n",
       "Sp_Atk                   65         80        100              60   \n",
       "Sp_Def                   65         80        100              50   \n",
       "Speed                    45         60         80              65   \n",
       "Generation                1          1          1               1   \n",
       "isLegendary           False      False      False           False   \n",
       "Color                 Green      Green      Green             Red   \n",
       "hasGender              True       True       True            True   \n",
       "Pr_Male               0.875      0.875      0.875           0.875   \n",
       "Egg_Group_1         Monster    Monster    Monster         Monster   \n",
       "Egg_Group_2           Grass      Grass      Grass          Dragon   \n",
       "hasMegaEvolution      False      False       True           False   \n",
       "Height_m               0.71       0.99       2.01            0.61   \n",
       "Weight_kg               6.9         13        100             8.5   \n",
       "Catch_Rate               45         45         45              45   \n",
       "Body_Style        quadruped  quadruped  quadruped  bipedal_tailed   \n",
       "\n",
       "                               4  \n",
       "Number                         5  \n",
       "Name                  Charmeleon  \n",
       "Type_1                      Fire  \n",
       "Type_2                       NaN  \n",
       "Total                        405  \n",
       "HP                            58  \n",
       "Attack                        64  \n",
       "Defense                       58  \n",
       "Sp_Atk                        80  \n",
       "Sp_Def                        65  \n",
       "Speed                         80  \n",
       "Generation                     1  \n",
       "isLegendary                False  \n",
       "Color                        Red  \n",
       "hasGender                   True  \n",
       "Pr_Male                    0.875  \n",
       "Egg_Group_1              Monster  \n",
       "Egg_Group_2               Dragon  \n",
       "hasMegaEvolution           False  \n",
       "Height_m                    1.09  \n",
       "Weight_kg                     19  \n",
       "Catch_Rate                    45  \n",
       "Body_Style        bipedal_tailed  "
      ]
     },
     "execution_count": 4,
     "metadata": {},
     "output_type": "execute_result"
    }
   ],
   "source": [
    "df.head().T"
   ]
  },
  {
   "cell_type": "code",
   "execution_count": 5,
   "metadata": {},
   "outputs": [
    {
     "data": {
      "text/plain": [
       "Number                int64\n",
       "Name                 object\n",
       "Type_1               object\n",
       "Type_2               object\n",
       "Total                 int64\n",
       "HP                    int64\n",
       "Attack                int64\n",
       "Defense               int64\n",
       "Sp_Atk                int64\n",
       "Sp_Def                int64\n",
       "Speed                 int64\n",
       "Generation            int64\n",
       "isLegendary            bool\n",
       "Color                object\n",
       "hasGender              bool\n",
       "Pr_Male             float64\n",
       "Egg_Group_1          object\n",
       "Egg_Group_2          object\n",
       "hasMegaEvolution       bool\n",
       "Height_m            float64\n",
       "Weight_kg           float64\n",
       "Catch_Rate            int64\n",
       "Body_Style           object\n",
       "dtype: object"
      ]
     },
     "execution_count": 5,
     "metadata": {},
     "output_type": "execute_result"
    }
   ],
   "source": [
    "df.dtypes"
   ]
  },
  {
   "cell_type": "code",
   "execution_count": 6,
   "metadata": {},
   "outputs": [
    {
     "data": {
      "text/html": [
       "<div>\n",
       "<style scoped>\n",
       "    .dataframe tbody tr th:only-of-type {\n",
       "        vertical-align: middle;\n",
       "    }\n",
       "\n",
       "    .dataframe tbody tr th {\n",
       "        vertical-align: top;\n",
       "    }\n",
       "\n",
       "    .dataframe thead th {\n",
       "        text-align: right;\n",
       "    }\n",
       "</style>\n",
       "<table border=\"1\" class=\"dataframe\">\n",
       "  <thead>\n",
       "    <tr style=\"text-align: right;\">\n",
       "      <th></th>\n",
       "      <th>Number</th>\n",
       "      <th>Total</th>\n",
       "      <th>HP</th>\n",
       "      <th>Attack</th>\n",
       "      <th>Defense</th>\n",
       "      <th>Sp_Atk</th>\n",
       "      <th>Sp_Def</th>\n",
       "      <th>Speed</th>\n",
       "      <th>Generation</th>\n",
       "      <th>Pr_Male</th>\n",
       "      <th>Height_m</th>\n",
       "      <th>Weight_kg</th>\n",
       "      <th>Catch_Rate</th>\n",
       "    </tr>\n",
       "  </thead>\n",
       "  <tbody>\n",
       "    <tr>\n",
       "      <th>count</th>\n",
       "      <td>721.00000</td>\n",
       "      <td>721.000000</td>\n",
       "      <td>721.000000</td>\n",
       "      <td>721.000000</td>\n",
       "      <td>721.000000</td>\n",
       "      <td>721.000000</td>\n",
       "      <td>721.000000</td>\n",
       "      <td>721.000000</td>\n",
       "      <td>721.000000</td>\n",
       "      <td>644.000000</td>\n",
       "      <td>721.000000</td>\n",
       "      <td>721.000000</td>\n",
       "      <td>721.000000</td>\n",
       "    </tr>\n",
       "    <tr>\n",
       "      <th>mean</th>\n",
       "      <td>361.00000</td>\n",
       "      <td>417.945908</td>\n",
       "      <td>68.380028</td>\n",
       "      <td>75.013870</td>\n",
       "      <td>70.808599</td>\n",
       "      <td>68.737864</td>\n",
       "      <td>69.291262</td>\n",
       "      <td>65.714286</td>\n",
       "      <td>3.323162</td>\n",
       "      <td>0.553377</td>\n",
       "      <td>1.144979</td>\n",
       "      <td>56.773370</td>\n",
       "      <td>100.246879</td>\n",
       "    </tr>\n",
       "    <tr>\n",
       "      <th>std</th>\n",
       "      <td>208.27906</td>\n",
       "      <td>109.663671</td>\n",
       "      <td>25.848272</td>\n",
       "      <td>28.984475</td>\n",
       "      <td>29.296558</td>\n",
       "      <td>28.788005</td>\n",
       "      <td>27.015860</td>\n",
       "      <td>27.277920</td>\n",
       "      <td>1.669873</td>\n",
       "      <td>0.199969</td>\n",
       "      <td>1.044369</td>\n",
       "      <td>89.095667</td>\n",
       "      <td>76.573513</td>\n",
       "    </tr>\n",
       "    <tr>\n",
       "      <th>min</th>\n",
       "      <td>1.00000</td>\n",
       "      <td>180.000000</td>\n",
       "      <td>1.000000</td>\n",
       "      <td>5.000000</td>\n",
       "      <td>5.000000</td>\n",
       "      <td>10.000000</td>\n",
       "      <td>20.000000</td>\n",
       "      <td>5.000000</td>\n",
       "      <td>1.000000</td>\n",
       "      <td>0.000000</td>\n",
       "      <td>0.100000</td>\n",
       "      <td>0.100000</td>\n",
       "      <td>3.000000</td>\n",
       "    </tr>\n",
       "    <tr>\n",
       "      <th>25%</th>\n",
       "      <td>181.00000</td>\n",
       "      <td>320.000000</td>\n",
       "      <td>50.000000</td>\n",
       "      <td>53.000000</td>\n",
       "      <td>50.000000</td>\n",
       "      <td>45.000000</td>\n",
       "      <td>50.000000</td>\n",
       "      <td>45.000000</td>\n",
       "      <td>2.000000</td>\n",
       "      <td>0.500000</td>\n",
       "      <td>0.610000</td>\n",
       "      <td>9.400000</td>\n",
       "      <td>45.000000</td>\n",
       "    </tr>\n",
       "    <tr>\n",
       "      <th>50%</th>\n",
       "      <td>361.00000</td>\n",
       "      <td>424.000000</td>\n",
       "      <td>65.000000</td>\n",
       "      <td>74.000000</td>\n",
       "      <td>65.000000</td>\n",
       "      <td>65.000000</td>\n",
       "      <td>65.000000</td>\n",
       "      <td>65.000000</td>\n",
       "      <td>3.000000</td>\n",
       "      <td>0.500000</td>\n",
       "      <td>0.990000</td>\n",
       "      <td>28.000000</td>\n",
       "      <td>65.000000</td>\n",
       "    </tr>\n",
       "    <tr>\n",
       "      <th>75%</th>\n",
       "      <td>541.00000</td>\n",
       "      <td>499.000000</td>\n",
       "      <td>80.000000</td>\n",
       "      <td>95.000000</td>\n",
       "      <td>85.000000</td>\n",
       "      <td>90.000000</td>\n",
       "      <td>85.000000</td>\n",
       "      <td>85.000000</td>\n",
       "      <td>5.000000</td>\n",
       "      <td>0.500000</td>\n",
       "      <td>1.400000</td>\n",
       "      <td>61.000000</td>\n",
       "      <td>180.000000</td>\n",
       "    </tr>\n",
       "    <tr>\n",
       "      <th>max</th>\n",
       "      <td>721.00000</td>\n",
       "      <td>720.000000</td>\n",
       "      <td>255.000000</td>\n",
       "      <td>165.000000</td>\n",
       "      <td>230.000000</td>\n",
       "      <td>154.000000</td>\n",
       "      <td>230.000000</td>\n",
       "      <td>160.000000</td>\n",
       "      <td>6.000000</td>\n",
       "      <td>1.000000</td>\n",
       "      <td>14.500000</td>\n",
       "      <td>950.000000</td>\n",
       "      <td>255.000000</td>\n",
       "    </tr>\n",
       "  </tbody>\n",
       "</table>\n",
       "</div>"
      ],
      "text/plain": [
       "          Number       Total          HP      Attack     Defense      Sp_Atk  \\\n",
       "count  721.00000  721.000000  721.000000  721.000000  721.000000  721.000000   \n",
       "mean   361.00000  417.945908   68.380028   75.013870   70.808599   68.737864   \n",
       "std    208.27906  109.663671   25.848272   28.984475   29.296558   28.788005   \n",
       "min      1.00000  180.000000    1.000000    5.000000    5.000000   10.000000   \n",
       "25%    181.00000  320.000000   50.000000   53.000000   50.000000   45.000000   \n",
       "50%    361.00000  424.000000   65.000000   74.000000   65.000000   65.000000   \n",
       "75%    541.00000  499.000000   80.000000   95.000000   85.000000   90.000000   \n",
       "max    721.00000  720.000000  255.000000  165.000000  230.000000  154.000000   \n",
       "\n",
       "           Sp_Def       Speed  Generation     Pr_Male    Height_m   Weight_kg  \\\n",
       "count  721.000000  721.000000  721.000000  644.000000  721.000000  721.000000   \n",
       "mean    69.291262   65.714286    3.323162    0.553377    1.144979   56.773370   \n",
       "std     27.015860   27.277920    1.669873    0.199969    1.044369   89.095667   \n",
       "min     20.000000    5.000000    1.000000    0.000000    0.100000    0.100000   \n",
       "25%     50.000000   45.000000    2.000000    0.500000    0.610000    9.400000   \n",
       "50%     65.000000   65.000000    3.000000    0.500000    0.990000   28.000000   \n",
       "75%     85.000000   85.000000    5.000000    0.500000    1.400000   61.000000   \n",
       "max    230.000000  160.000000    6.000000    1.000000   14.500000  950.000000   \n",
       "\n",
       "       Catch_Rate  \n",
       "count  721.000000  \n",
       "mean   100.246879  \n",
       "std     76.573513  \n",
       "min      3.000000  \n",
       "25%     45.000000  \n",
       "50%     65.000000  \n",
       "75%    180.000000  \n",
       "max    255.000000  "
      ]
     },
     "execution_count": 6,
     "metadata": {},
     "output_type": "execute_result"
    }
   ],
   "source": [
    "df.describe()"
   ]
  },
  {
   "cell_type": "markdown",
   "metadata": {},
   "source": [
    "### 1. How many Legendary Pokemon are there? ( 1pt )"
   ]
  },
  {
   "cell_type": "code",
   "execution_count": 7,
   "metadata": {},
   "outputs": [
    {
     "data": {
      "text/plain": [
       "False    675\n",
       "True      46\n",
       "Name: isLegendary, dtype: int64"
      ]
     },
     "execution_count": 7,
     "metadata": {},
     "output_type": "execute_result"
    }
   ],
   "source": [
    "df['isLegendary'].value_counts()"
   ]
  },
  {
   "cell_type": "markdown",
   "metadata": {},
   "source": [
    "There are 46 legendary pokemon in the dataset."
   ]
  },
  {
   "cell_type": "markdown",
   "metadata": {},
   "source": [
    "### 2. Who is the Pokemon with the highest attack-to-HP ratio? (Tip: Just get the divide attack by HP) ( 3pts )"
   ]
  },
  {
   "cell_type": "code",
   "execution_count": 8,
   "metadata": {},
   "outputs": [
    {
     "data": {
      "text/plain": [
       "Number                    292\n",
       "Name                 Shedinja\n",
       "Type_1                    Bug\n",
       "Type_2                  Ghost\n",
       "Total                     236\n",
       "HP                          1\n",
       "Attack                     90\n",
       "Defense                    45\n",
       "Sp_Atk                     30\n",
       "Sp_Def                     30\n",
       "Speed                      40\n",
       "Generation                  3\n",
       "isLegendary             False\n",
       "Color                   Brown\n",
       "hasGender               False\n",
       "Pr_Male                   NaN\n",
       "Egg_Group_1           Mineral\n",
       "Egg_Group_2               NaN\n",
       "hasMegaEvolution        False\n",
       "Height_m                 0.79\n",
       "Weight_kg                 1.2\n",
       "Catch_Rate                 45\n",
       "Body_Style          head_base\n",
       "Name: 291, dtype: object"
      ]
     },
     "execution_count": 8,
     "metadata": {},
     "output_type": "execute_result"
    }
   ],
   "source": [
    "df.loc[(df['Attack']/df['HP']).idxmax()]"
   ]
  },
  {
   "cell_type": "markdown",
   "metadata": {},
   "source": [
    "The pokemon with highest attack to HP ratio is Shedinja with an attack to HP ratio of 90."
   ]
  },
  {
   "cell_type": "markdown",
   "metadata": {},
   "source": [
    "### 3. Build a binary classifier for whether Pokemon are Fire Type or not. ( 4pts )"
   ]
  },
  {
   "cell_type": "code",
   "execution_count": 9,
   "metadata": {},
   "outputs": [
    {
     "data": {
      "text/plain": [
       "Water       105\n",
       "Normal       93\n",
       "Grass        66\n",
       "Bug          63\n",
       "Psychic      47\n",
       "Fire         47\n",
       "Rock         41\n",
       "Electric     36\n",
       "Ground       30\n",
       "Dark         28\n",
       "Poison       28\n",
       "Fighting     25\n",
       "Dragon       24\n",
       "Ghost        23\n",
       "Ice          23\n",
       "Steel        22\n",
       "Fairy        17\n",
       "Flying        3\n",
       "Name: Type_1, dtype: int64"
      ]
     },
     "execution_count": 9,
     "metadata": {},
     "output_type": "execute_result"
    }
   ],
   "source": [
    "# Check distribution among pokemon types\n",
    "df['Type_1'].value_counts()"
   ]
  },
  {
   "cell_type": "markdown",
   "metadata": {},
   "source": [
    "There are 47 pokemon with Fire as their Type_1."
   ]
  },
  {
   "cell_type": "code",
   "execution_count": 10,
   "metadata": {},
   "outputs": [
    {
     "data": {
      "text/plain": [
       "Flying      87\n",
       "Poison      31\n",
       "Ground      30\n",
       "Psychic     27\n",
       "Steel       19\n",
       "Fighting    19\n",
       "Fairy       18\n",
       "Grass       18\n",
       "Dark        16\n",
       "Rock        14\n",
       "Dragon      14\n",
       "Water       13\n",
       "Ghost       12\n",
       "Ice         10\n",
       "Fire         9\n",
       "Electric     6\n",
       "Normal       4\n",
       "Bug          3\n",
       "Name: Type_2, dtype: int64"
      ]
     },
     "execution_count": 10,
     "metadata": {},
     "output_type": "execute_result"
    }
   ],
   "source": [
    "# Check distribution among pokemon types\n",
    "df['Type_2'].value_counts()"
   ]
  },
  {
   "cell_type": "markdown",
   "metadata": {},
   "source": [
    "There are 9 pokemon with Fire as their Type_2."
   ]
  },
  {
   "cell_type": "markdown",
   "metadata": {},
   "source": [
    "Thus, there are 56 Fire type pokemon in total, including the 9 pokemon with dual types."
   ]
  },
  {
   "cell_type": "code",
   "execution_count": 11,
   "metadata": {},
   "outputs": [
    {
     "data": {
      "text/html": [
       "<div>\n",
       "<style scoped>\n",
       "    .dataframe tbody tr th:only-of-type {\n",
       "        vertical-align: middle;\n",
       "    }\n",
       "\n",
       "    .dataframe tbody tr th {\n",
       "        vertical-align: top;\n",
       "    }\n",
       "\n",
       "    .dataframe thead th {\n",
       "        text-align: right;\n",
       "    }\n",
       "</style>\n",
       "<table border=\"1\" class=\"dataframe\">\n",
       "  <thead>\n",
       "    <tr style=\"text-align: right;\">\n",
       "      <th></th>\n",
       "      <th>Name</th>\n",
       "      <th>Is_Fire</th>\n",
       "    </tr>\n",
       "  </thead>\n",
       "  <tbody>\n",
       "    <tr>\n",
       "      <th>0</th>\n",
       "      <td>Bulbasaur</td>\n",
       "      <td>0.0</td>\n",
       "    </tr>\n",
       "    <tr>\n",
       "      <th>1</th>\n",
       "      <td>Ivysaur</td>\n",
       "      <td>0.0</td>\n",
       "    </tr>\n",
       "    <tr>\n",
       "      <th>2</th>\n",
       "      <td>Venusaur</td>\n",
       "      <td>0.0</td>\n",
       "    </tr>\n",
       "    <tr>\n",
       "      <th>3</th>\n",
       "      <td>Charmander</td>\n",
       "      <td>1.0</td>\n",
       "    </tr>\n",
       "    <tr>\n",
       "      <th>4</th>\n",
       "      <td>Charmeleon</td>\n",
       "      <td>1.0</td>\n",
       "    </tr>\n",
       "    <tr>\n",
       "      <th>...</th>\n",
       "      <td>...</td>\n",
       "      <td>...</td>\n",
       "    </tr>\n",
       "    <tr>\n",
       "      <th>716</th>\n",
       "      <td>Yveltal</td>\n",
       "      <td>0.0</td>\n",
       "    </tr>\n",
       "    <tr>\n",
       "      <th>717</th>\n",
       "      <td>Zygarde</td>\n",
       "      <td>0.0</td>\n",
       "    </tr>\n",
       "    <tr>\n",
       "      <th>718</th>\n",
       "      <td>Diancie</td>\n",
       "      <td>0.0</td>\n",
       "    </tr>\n",
       "    <tr>\n",
       "      <th>719</th>\n",
       "      <td>Hoopa</td>\n",
       "      <td>0.0</td>\n",
       "    </tr>\n",
       "    <tr>\n",
       "      <th>720</th>\n",
       "      <td>Volcanion</td>\n",
       "      <td>1.0</td>\n",
       "    </tr>\n",
       "  </tbody>\n",
       "</table>\n",
       "<p>721 rows × 2 columns</p>\n",
       "</div>"
      ],
      "text/plain": [
       "           Name  Is_Fire\n",
       "0     Bulbasaur      0.0\n",
       "1       Ivysaur      0.0\n",
       "2      Venusaur      0.0\n",
       "3    Charmander      1.0\n",
       "4    Charmeleon      1.0\n",
       "..          ...      ...\n",
       "716     Yveltal      0.0\n",
       "717     Zygarde      0.0\n",
       "718     Diancie      0.0\n",
       "719       Hoopa      0.0\n",
       "720   Volcanion      1.0\n",
       "\n",
       "[721 rows x 2 columns]"
      ]
     },
     "execution_count": 11,
     "metadata": {},
     "output_type": "execute_result"
    }
   ],
   "source": [
    "# Create a binary target variable Is_Fire w/c is True for Fire type pokemon and False otherwise\n",
    "df.loc[(df['Type_1']=='Fire') | (df['Type_2']=='Fire'), 'Is_Fire'] = 1\n",
    "df.loc[(df['Type_1']!='Fire') & (df['Type_2']!='Fire'), 'Is_Fire'] = 0\n",
    "df[['Name', 'Is_Fire']]"
   ]
  },
  {
   "cell_type": "code",
   "execution_count": 12,
   "metadata": {},
   "outputs": [
    {
     "data": {
      "text/plain": [
       "0.0    665\n",
       "1.0     56\n",
       "Name: Is_Fire, dtype: int64"
      ]
     },
     "execution_count": 12,
     "metadata": {},
     "output_type": "execute_result"
    }
   ],
   "source": [
    "df['Is_Fire'].value_counts()"
   ]
  },
  {
   "cell_type": "code",
   "execution_count": 13,
   "metadata": {},
   "outputs": [
    {
     "data": {
      "text/plain": [
       "Number              0.000000\n",
       "Name                0.000000\n",
       "Type_1              0.000000\n",
       "Type_2              0.514563\n",
       "Total               0.000000\n",
       "HP                  0.000000\n",
       "Attack              0.000000\n",
       "Defense             0.000000\n",
       "Sp_Atk              0.000000\n",
       "Sp_Def              0.000000\n",
       "Speed               0.000000\n",
       "Generation          0.000000\n",
       "isLegendary         0.000000\n",
       "Color               0.000000\n",
       "hasGender           0.000000\n",
       "Pr_Male             0.106796\n",
       "Egg_Group_1         0.000000\n",
       "Egg_Group_2         0.735090\n",
       "hasMegaEvolution    0.000000\n",
       "Height_m            0.000000\n",
       "Weight_kg           0.000000\n",
       "Catch_Rate          0.000000\n",
       "Body_Style          0.000000\n",
       "Is_Fire             0.000000\n",
       "dtype: float64"
      ]
     },
     "execution_count": 13,
     "metadata": {},
     "output_type": "execute_result"
    }
   ],
   "source": [
    "# Compute % null values per feature\n",
    "df.isnull().sum()/len(df)"
   ]
  },
  {
   "cell_type": "markdown",
   "metadata": {},
   "source": [
    "Maybe Type_2 and Egg_Group_2 are not null only for pokemon with 2 types and 2 egg groups, respectively."
   ]
  },
  {
   "cell_type": "code",
   "execution_count": 14,
   "metadata": {},
   "outputs": [
    {
     "data": {
      "text/plain": [
       "Dragon        35\n",
       "Grass         32\n",
       "Field         31\n",
       "Fairy         17\n",
       "Water_3       15\n",
       "Human-Like    15\n",
       "Water_1       13\n",
       "Amorphous      8\n",
       "Mineral        8\n",
       "Water_2        8\n",
       "Flying         6\n",
       "Bug            2\n",
       "Monster        1\n",
       "Name: Egg_Group_2, dtype: int64"
      ]
     },
     "execution_count": 14,
     "metadata": {},
     "output_type": "execute_result"
    }
   ],
   "source": [
    "df['Egg_Group_2'].value_counts()"
   ]
  },
  {
   "cell_type": "code",
   "execution_count": 15,
   "metadata": {},
   "outputs": [],
   "source": [
    "# List predictor features to include in model by type\n",
    "cat_feat = ['Body_Style', 'Egg_Group_1', 'Egg_Group_2', 'Color', 'Generation']\n",
    "num_feat = ['Total', 'HP', 'Attack', 'Defense', 'Sp_Atk', 'Sp_Def', 'Speed', 'Height_m', 'Weight_kg', 'Catch_Rate']"
   ]
  },
  {
   "cell_type": "code",
   "execution_count": 16,
   "metadata": {},
   "outputs": [],
   "source": [
    "# Use one-hot encoding for categorical features\n",
    "# But drop first column for all encoded categorical since it's redundant\n",
    "\n",
    "cat = df[cat_feat]\n",
    "\n",
    "for col in cat_feat:\n",
    "    if col == 'Egg_Group_2': # add a column to indicate NaN / missing\n",
    "        cat = cat.join(pd.get_dummies(df[col], prefix=col, drop_first=True, dummy_na=True))\n",
    "    else:\n",
    "        cat = cat.join(pd.get_dummies(df[col], prefix=col, drop_first=True))\n",
    "\n",
    "# Drop original columns for categorical features\n",
    "cat.drop(cat_feat, axis=1, inplace=True)"
   ]
  },
  {
   "cell_type": "code",
   "execution_count": 17,
   "metadata": {},
   "outputs": [
    {
     "data": {
      "text/plain": [
       "Index(['Body_Style_bipedal_tailless', 'Body_Style_four_wings',\n",
       "       'Body_Style_head_arms', 'Body_Style_head_base', 'Body_Style_head_legs',\n",
       "       'Body_Style_head_only', 'Body_Style_insectoid',\n",
       "       'Body_Style_multiple_bodies', 'Body_Style_quadruped',\n",
       "       'Body_Style_serpentine_body', 'Body_Style_several_limbs',\n",
       "       'Body_Style_two_wings', 'Body_Style_with_fins', 'Egg_Group_1_Bug',\n",
       "       'Egg_Group_1_Ditto', 'Egg_Group_1_Dragon', 'Egg_Group_1_Fairy',\n",
       "       'Egg_Group_1_Field', 'Egg_Group_1_Flying', 'Egg_Group_1_Grass',\n",
       "       'Egg_Group_1_Human-Like', 'Egg_Group_1_Mineral', 'Egg_Group_1_Monster',\n",
       "       'Egg_Group_1_Undiscovered', 'Egg_Group_1_Water_1',\n",
       "       'Egg_Group_1_Water_2', 'Egg_Group_1_Water_3', 'Egg_Group_2_Bug',\n",
       "       'Egg_Group_2_Dragon', 'Egg_Group_2_Fairy', 'Egg_Group_2_Field',\n",
       "       'Egg_Group_2_Flying', 'Egg_Group_2_Grass', 'Egg_Group_2_Human-Like',\n",
       "       'Egg_Group_2_Mineral', 'Egg_Group_2_Monster', 'Egg_Group_2_Water_1',\n",
       "       'Egg_Group_2_Water_2', 'Egg_Group_2_Water_3', 'Egg_Group_2_nan',\n",
       "       'Color_Blue', 'Color_Brown', 'Color_Green', 'Color_Grey', 'Color_Pink',\n",
       "       'Color_Purple', 'Color_Red', 'Color_White', 'Color_Yellow',\n",
       "       'Generation_2', 'Generation_3', 'Generation_4', 'Generation_5',\n",
       "       'Generation_6'],\n",
       "      dtype='object')"
      ]
     },
     "execution_count": 17,
     "metadata": {},
     "output_type": "execute_result"
    }
   ],
   "source": [
    "cat.columns"
   ]
  },
  {
   "cell_type": "code",
   "execution_count": 18,
   "metadata": {},
   "outputs": [
    {
     "data": {
      "text/html": [
       "<div>\n",
       "<style scoped>\n",
       "    .dataframe tbody tr th:only-of-type {\n",
       "        vertical-align: middle;\n",
       "    }\n",
       "\n",
       "    .dataframe tbody tr th {\n",
       "        vertical-align: top;\n",
       "    }\n",
       "\n",
       "    .dataframe thead th {\n",
       "        text-align: right;\n",
       "    }\n",
       "</style>\n",
       "<table border=\"1\" class=\"dataframe\">\n",
       "  <thead>\n",
       "    <tr style=\"text-align: right;\">\n",
       "      <th></th>\n",
       "      <th>Total</th>\n",
       "      <th>HP</th>\n",
       "      <th>Attack</th>\n",
       "      <th>Defense</th>\n",
       "      <th>Sp_Atk</th>\n",
       "      <th>Sp_Def</th>\n",
       "      <th>Speed</th>\n",
       "      <th>Height_m</th>\n",
       "      <th>Weight_kg</th>\n",
       "      <th>Catch_Rate</th>\n",
       "    </tr>\n",
       "  </thead>\n",
       "  <tbody>\n",
       "    <tr>\n",
       "      <th>0</th>\n",
       "      <td>-0.912018</td>\n",
       "      <td>-0.905138</td>\n",
       "      <td>-0.898134</td>\n",
       "      <td>-0.744925</td>\n",
       "      <td>-0.129931</td>\n",
       "      <td>-0.158953</td>\n",
       "      <td>-0.759906</td>\n",
       "      <td>-0.416789</td>\n",
       "      <td>-0.560162</td>\n",
       "      <td>-0.721989</td>\n",
       "    </tr>\n",
       "    <tr>\n",
       "      <th>1</th>\n",
       "      <td>-0.118133</td>\n",
       "      <td>-0.324426</td>\n",
       "      <td>-0.449306</td>\n",
       "      <td>-0.266721</td>\n",
       "      <td>0.391481</td>\n",
       "      <td>0.396662</td>\n",
       "      <td>-0.209629</td>\n",
       "      <td>-0.148498</td>\n",
       "      <td>-0.491649</td>\n",
       "      <td>-0.721989</td>\n",
       "    </tr>\n",
       "    <tr>\n",
       "      <th>2</th>\n",
       "      <td>0.976881</td>\n",
       "      <td>0.449857</td>\n",
       "      <td>0.241197</td>\n",
       "      <td>0.416427</td>\n",
       "      <td>1.086697</td>\n",
       "      <td>1.137482</td>\n",
       "      <td>0.524073</td>\n",
       "      <td>0.828847</td>\n",
       "      <td>0.485508</td>\n",
       "      <td>-0.721989</td>\n",
       "    </tr>\n",
       "    <tr>\n",
       "      <th>3</th>\n",
       "      <td>-0.994145</td>\n",
       "      <td>-1.137423</td>\n",
       "      <td>-0.794558</td>\n",
       "      <td>-0.949869</td>\n",
       "      <td>-0.303735</td>\n",
       "      <td>-0.714567</td>\n",
       "      <td>-0.026204</td>\n",
       "      <td>-0.512607</td>\n",
       "      <td>-0.542191</td>\n",
       "      <td>-0.721989</td>\n",
       "    </tr>\n",
       "    <tr>\n",
       "      <th>4</th>\n",
       "      <td>-0.118133</td>\n",
       "      <td>-0.401854</td>\n",
       "      <td>-0.380256</td>\n",
       "      <td>-0.437508</td>\n",
       "      <td>0.391481</td>\n",
       "      <td>-0.158953</td>\n",
       "      <td>0.524073</td>\n",
       "      <td>-0.052680</td>\n",
       "      <td>-0.424258</td>\n",
       "      <td>-0.721989</td>\n",
       "    </tr>\n",
       "    <tr>\n",
       "      <th>...</th>\n",
       "      <td>...</td>\n",
       "      <td>...</td>\n",
       "      <td>...</td>\n",
       "      <td>...</td>\n",
       "      <td>...</td>\n",
       "      <td>...</td>\n",
       "      <td>...</td>\n",
       "      <td>...</td>\n",
       "      <td>...</td>\n",
       "      <td>...</td>\n",
       "    </tr>\n",
       "    <tr>\n",
       "      <th>716</th>\n",
       "      <td>2.391275</td>\n",
       "      <td>2.230709</td>\n",
       "      <td>1.932931</td>\n",
       "      <td>0.826315</td>\n",
       "      <td>2.164282</td>\n",
       "      <td>1.063400</td>\n",
       "      <td>1.221091</td>\n",
       "      <td>4.450771</td>\n",
       "      <td>1.642371</td>\n",
       "      <td>-0.721989</td>\n",
       "    </tr>\n",
       "    <tr>\n",
       "      <th>717</th>\n",
       "      <td>1.661266</td>\n",
       "      <td>1.533854</td>\n",
       "      <td>0.862651</td>\n",
       "      <td>1.714408</td>\n",
       "      <td>0.426242</td>\n",
       "      <td>0.952277</td>\n",
       "      <td>1.074350</td>\n",
       "      <td>3.693808</td>\n",
       "      <td>2.788003</td>\n",
       "      <td>-1.270862</td>\n",
       "    </tr>\n",
       "    <tr>\n",
       "      <th>718</th>\n",
       "      <td>1.661266</td>\n",
       "      <td>-0.711567</td>\n",
       "      <td>0.862651</td>\n",
       "      <td>2.704972</td>\n",
       "      <td>1.086697</td>\n",
       "      <td>2.989532</td>\n",
       "      <td>-0.576481</td>\n",
       "      <td>-0.416789</td>\n",
       "      <td>-0.538822</td>\n",
       "      <td>-1.270862</td>\n",
       "    </tr>\n",
       "    <tr>\n",
       "      <th>719</th>\n",
       "      <td>1.661266</td>\n",
       "      <td>0.449857</td>\n",
       "      <td>1.207902</td>\n",
       "      <td>-0.369194</td>\n",
       "      <td>2.824737</td>\n",
       "      <td>2.248712</td>\n",
       "      <td>0.157222</td>\n",
       "      <td>-0.608425</td>\n",
       "      <td>-0.536575</td>\n",
       "      <td>-1.270862</td>\n",
       "    </tr>\n",
       "    <tr>\n",
       "      <th>720</th>\n",
       "      <td>1.661266</td>\n",
       "      <td>0.449857</td>\n",
       "      <td>1.207902</td>\n",
       "      <td>1.680250</td>\n",
       "      <td>2.129521</td>\n",
       "      <td>0.767072</td>\n",
       "      <td>0.157222</td>\n",
       "      <td>0.531810</td>\n",
       "      <td>1.552518</td>\n",
       "      <td>-1.270862</td>\n",
       "    </tr>\n",
       "  </tbody>\n",
       "</table>\n",
       "<p>721 rows × 10 columns</p>\n",
       "</div>"
      ],
      "text/plain": [
       "        Total        HP    Attack   Defense    Sp_Atk    Sp_Def     Speed  \\\n",
       "0   -0.912018 -0.905138 -0.898134 -0.744925 -0.129931 -0.158953 -0.759906   \n",
       "1   -0.118133 -0.324426 -0.449306 -0.266721  0.391481  0.396662 -0.209629   \n",
       "2    0.976881  0.449857  0.241197  0.416427  1.086697  1.137482  0.524073   \n",
       "3   -0.994145 -1.137423 -0.794558 -0.949869 -0.303735 -0.714567 -0.026204   \n",
       "4   -0.118133 -0.401854 -0.380256 -0.437508  0.391481 -0.158953  0.524073   \n",
       "..        ...       ...       ...       ...       ...       ...       ...   \n",
       "716  2.391275  2.230709  1.932931  0.826315  2.164282  1.063400  1.221091   \n",
       "717  1.661266  1.533854  0.862651  1.714408  0.426242  0.952277  1.074350   \n",
       "718  1.661266 -0.711567  0.862651  2.704972  1.086697  2.989532 -0.576481   \n",
       "719  1.661266  0.449857  1.207902 -0.369194  2.824737  2.248712  0.157222   \n",
       "720  1.661266  0.449857  1.207902  1.680250  2.129521  0.767072  0.157222   \n",
       "\n",
       "     Height_m  Weight_kg  Catch_Rate  \n",
       "0   -0.416789  -0.560162   -0.721989  \n",
       "1   -0.148498  -0.491649   -0.721989  \n",
       "2    0.828847   0.485508   -0.721989  \n",
       "3   -0.512607  -0.542191   -0.721989  \n",
       "4   -0.052680  -0.424258   -0.721989  \n",
       "..        ...        ...         ...  \n",
       "716  4.450771   1.642371   -0.721989  \n",
       "717  3.693808   2.788003   -1.270862  \n",
       "718 -0.416789  -0.538822   -1.270862  \n",
       "719 -0.608425  -0.536575   -1.270862  \n",
       "720  0.531810   1.552518   -1.270862  \n",
       "\n",
       "[721 rows x 10 columns]"
      ]
     },
     "execution_count": 18,
     "metadata": {},
     "output_type": "execute_result"
    }
   ],
   "source": [
    "# Scale numerical features\n",
    "num = pd.DataFrame(StandardScaler().fit_transform(df[num_feat]), columns=num_feat)\n",
    "num"
   ]
  },
  {
   "cell_type": "code",
   "execution_count": 19,
   "metadata": {},
   "outputs": [
    {
     "data": {
      "text/plain": [
       "Index(['Total', 'HP', 'Attack', 'Defense', 'Sp_Atk', 'Sp_Def', 'Speed',\n",
       "       'Height_m', 'Weight_kg', 'Catch_Rate', 'Body_Style_bipedal_tailless',\n",
       "       'Body_Style_four_wings', 'Body_Style_head_arms', 'Body_Style_head_base',\n",
       "       'Body_Style_head_legs', 'Body_Style_head_only', 'Body_Style_insectoid',\n",
       "       'Body_Style_multiple_bodies', 'Body_Style_quadruped',\n",
       "       'Body_Style_serpentine_body', 'Body_Style_several_limbs',\n",
       "       'Body_Style_two_wings', 'Body_Style_with_fins', 'Egg_Group_1_Bug',\n",
       "       'Egg_Group_1_Ditto', 'Egg_Group_1_Dragon', 'Egg_Group_1_Fairy',\n",
       "       'Egg_Group_1_Field', 'Egg_Group_1_Flying', 'Egg_Group_1_Grass',\n",
       "       'Egg_Group_1_Human-Like', 'Egg_Group_1_Mineral', 'Egg_Group_1_Monster',\n",
       "       'Egg_Group_1_Undiscovered', 'Egg_Group_1_Water_1',\n",
       "       'Egg_Group_1_Water_2', 'Egg_Group_1_Water_3', 'Egg_Group_2_Bug',\n",
       "       'Egg_Group_2_Dragon', 'Egg_Group_2_Fairy', 'Egg_Group_2_Field',\n",
       "       'Egg_Group_2_Flying', 'Egg_Group_2_Grass', 'Egg_Group_2_Human-Like',\n",
       "       'Egg_Group_2_Mineral', 'Egg_Group_2_Monster', 'Egg_Group_2_Water_1',\n",
       "       'Egg_Group_2_Water_2', 'Egg_Group_2_Water_3', 'Egg_Group_2_nan',\n",
       "       'Color_Blue', 'Color_Brown', 'Color_Green', 'Color_Grey', 'Color_Pink',\n",
       "       'Color_Purple', 'Color_Red', 'Color_White', 'Color_Yellow',\n",
       "       'Generation_2', 'Generation_3', 'Generation_4', 'Generation_5',\n",
       "       'Generation_6'],\n",
       "      dtype='object')"
      ]
     },
     "execution_count": 19,
     "metadata": {},
     "output_type": "execute_result"
    }
   ],
   "source": [
    "num.join(cat).columns"
   ]
  },
  {
   "cell_type": "code",
   "execution_count": 20,
   "metadata": {},
   "outputs": [
    {
     "data": {
      "text/html": [
       "<div>\n",
       "<style scoped>\n",
       "    .dataframe tbody tr th:only-of-type {\n",
       "        vertical-align: middle;\n",
       "    }\n",
       "\n",
       "    .dataframe tbody tr th {\n",
       "        vertical-align: top;\n",
       "    }\n",
       "\n",
       "    .dataframe thead th {\n",
       "        text-align: right;\n",
       "    }\n",
       "</style>\n",
       "<table border=\"1\" class=\"dataframe\">\n",
       "  <thead>\n",
       "    <tr style=\"text-align: right;\">\n",
       "      <th></th>\n",
       "      <th>Total</th>\n",
       "      <th>HP</th>\n",
       "      <th>Attack</th>\n",
       "      <th>Defense</th>\n",
       "      <th>Sp_Atk</th>\n",
       "      <th>Sp_Def</th>\n",
       "      <th>Speed</th>\n",
       "      <th>Height_m</th>\n",
       "      <th>Weight_kg</th>\n",
       "      <th>Catch_Rate</th>\n",
       "      <th>...</th>\n",
       "      <th>Color_Red</th>\n",
       "      <th>Color_White</th>\n",
       "      <th>Color_Yellow</th>\n",
       "      <th>Generation_2</th>\n",
       "      <th>Generation_3</th>\n",
       "      <th>Generation_4</th>\n",
       "      <th>Generation_5</th>\n",
       "      <th>Generation_6</th>\n",
       "      <th>hasMegaEvolution</th>\n",
       "      <th>isLegendary</th>\n",
       "    </tr>\n",
       "  </thead>\n",
       "  <tbody>\n",
       "    <tr>\n",
       "      <th>0</th>\n",
       "      <td>-0.912018</td>\n",
       "      <td>-0.905138</td>\n",
       "      <td>-0.898134</td>\n",
       "      <td>-0.744925</td>\n",
       "      <td>-0.129931</td>\n",
       "      <td>-0.158953</td>\n",
       "      <td>-0.759906</td>\n",
       "      <td>-0.416789</td>\n",
       "      <td>-0.560162</td>\n",
       "      <td>-0.721989</td>\n",
       "      <td>...</td>\n",
       "      <td>0</td>\n",
       "      <td>0</td>\n",
       "      <td>0</td>\n",
       "      <td>0</td>\n",
       "      <td>0</td>\n",
       "      <td>0</td>\n",
       "      <td>0</td>\n",
       "      <td>0</td>\n",
       "      <td>False</td>\n",
       "      <td>False</td>\n",
       "    </tr>\n",
       "    <tr>\n",
       "      <th>1</th>\n",
       "      <td>-0.118133</td>\n",
       "      <td>-0.324426</td>\n",
       "      <td>-0.449306</td>\n",
       "      <td>-0.266721</td>\n",
       "      <td>0.391481</td>\n",
       "      <td>0.396662</td>\n",
       "      <td>-0.209629</td>\n",
       "      <td>-0.148498</td>\n",
       "      <td>-0.491649</td>\n",
       "      <td>-0.721989</td>\n",
       "      <td>...</td>\n",
       "      <td>0</td>\n",
       "      <td>0</td>\n",
       "      <td>0</td>\n",
       "      <td>0</td>\n",
       "      <td>0</td>\n",
       "      <td>0</td>\n",
       "      <td>0</td>\n",
       "      <td>0</td>\n",
       "      <td>False</td>\n",
       "      <td>False</td>\n",
       "    </tr>\n",
       "    <tr>\n",
       "      <th>2</th>\n",
       "      <td>0.976881</td>\n",
       "      <td>0.449857</td>\n",
       "      <td>0.241197</td>\n",
       "      <td>0.416427</td>\n",
       "      <td>1.086697</td>\n",
       "      <td>1.137482</td>\n",
       "      <td>0.524073</td>\n",
       "      <td>0.828847</td>\n",
       "      <td>0.485508</td>\n",
       "      <td>-0.721989</td>\n",
       "      <td>...</td>\n",
       "      <td>0</td>\n",
       "      <td>0</td>\n",
       "      <td>0</td>\n",
       "      <td>0</td>\n",
       "      <td>0</td>\n",
       "      <td>0</td>\n",
       "      <td>0</td>\n",
       "      <td>0</td>\n",
       "      <td>True</td>\n",
       "      <td>False</td>\n",
       "    </tr>\n",
       "    <tr>\n",
       "      <th>3</th>\n",
       "      <td>-0.994145</td>\n",
       "      <td>-1.137423</td>\n",
       "      <td>-0.794558</td>\n",
       "      <td>-0.949869</td>\n",
       "      <td>-0.303735</td>\n",
       "      <td>-0.714567</td>\n",
       "      <td>-0.026204</td>\n",
       "      <td>-0.512607</td>\n",
       "      <td>-0.542191</td>\n",
       "      <td>-0.721989</td>\n",
       "      <td>...</td>\n",
       "      <td>1</td>\n",
       "      <td>0</td>\n",
       "      <td>0</td>\n",
       "      <td>0</td>\n",
       "      <td>0</td>\n",
       "      <td>0</td>\n",
       "      <td>0</td>\n",
       "      <td>0</td>\n",
       "      <td>False</td>\n",
       "      <td>False</td>\n",
       "    </tr>\n",
       "    <tr>\n",
       "      <th>4</th>\n",
       "      <td>-0.118133</td>\n",
       "      <td>-0.401854</td>\n",
       "      <td>-0.380256</td>\n",
       "      <td>-0.437508</td>\n",
       "      <td>0.391481</td>\n",
       "      <td>-0.158953</td>\n",
       "      <td>0.524073</td>\n",
       "      <td>-0.052680</td>\n",
       "      <td>-0.424258</td>\n",
       "      <td>-0.721989</td>\n",
       "      <td>...</td>\n",
       "      <td>1</td>\n",
       "      <td>0</td>\n",
       "      <td>0</td>\n",
       "      <td>0</td>\n",
       "      <td>0</td>\n",
       "      <td>0</td>\n",
       "      <td>0</td>\n",
       "      <td>0</td>\n",
       "      <td>False</td>\n",
       "      <td>False</td>\n",
       "    </tr>\n",
       "  </tbody>\n",
       "</table>\n",
       "<p>5 rows × 66 columns</p>\n",
       "</div>"
      ],
      "text/plain": [
       "      Total        HP    Attack   Defense    Sp_Atk    Sp_Def     Speed  \\\n",
       "0 -0.912018 -0.905138 -0.898134 -0.744925 -0.129931 -0.158953 -0.759906   \n",
       "1 -0.118133 -0.324426 -0.449306 -0.266721  0.391481  0.396662 -0.209629   \n",
       "2  0.976881  0.449857  0.241197  0.416427  1.086697  1.137482  0.524073   \n",
       "3 -0.994145 -1.137423 -0.794558 -0.949869 -0.303735 -0.714567 -0.026204   \n",
       "4 -0.118133 -0.401854 -0.380256 -0.437508  0.391481 -0.158953  0.524073   \n",
       "\n",
       "   Height_m  Weight_kg  Catch_Rate  ...  Color_Red  Color_White  Color_Yellow  \\\n",
       "0 -0.416789  -0.560162   -0.721989  ...          0            0             0   \n",
       "1 -0.148498  -0.491649   -0.721989  ...          0            0             0   \n",
       "2  0.828847   0.485508   -0.721989  ...          0            0             0   \n",
       "3 -0.512607  -0.542191   -0.721989  ...          1            0             0   \n",
       "4 -0.052680  -0.424258   -0.721989  ...          1            0             0   \n",
       "\n",
       "   Generation_2  Generation_3  Generation_4  Generation_5  Generation_6  \\\n",
       "0             0             0             0             0             0   \n",
       "1             0             0             0             0             0   \n",
       "2             0             0             0             0             0   \n",
       "3             0             0             0             0             0   \n",
       "4             0             0             0             0             0   \n",
       "\n",
       "   hasMegaEvolution  isLegendary  \n",
       "0             False        False  \n",
       "1             False        False  \n",
       "2              True        False  \n",
       "3             False        False  \n",
       "4             False        False  \n",
       "\n",
       "[5 rows x 66 columns]"
      ]
     },
     "execution_count": 20,
     "metadata": {},
     "output_type": "execute_result"
    }
   ],
   "source": [
    "# Join numeric & categorical features & set target variable 'Is_Fire'\n",
    "X = num.join(cat)\n",
    "\n",
    "# Include the 2 bool features w/c were not preprocessed\n",
    "X = X.join(df[['hasMegaEvolution', 'isLegendary']])\n",
    "y = df['Is_Fire']\n",
    "\n",
    "X.head()"
   ]
  },
  {
   "cell_type": "code",
   "execution_count": 21,
   "metadata": {},
   "outputs": [
    {
     "name": "stdout",
     "output_type": "stream",
     "text": [
      "              precision    recall  f1-score   support\n",
      "\n",
      "         0.0       0.99      0.89      0.94       133\n",
      "         1.0       0.44      0.92      0.59        12\n",
      "\n",
      "    accuracy                           0.90       145\n",
      "   macro avg       0.72      0.91      0.77       145\n",
      "weighted avg       0.95      0.90      0.91       145\n",
      "\n"
     ]
    }
   ],
   "source": [
    "# Split into train & test\n",
    "X_train, X_test, y_train, y_test = train_test_split(\n",
    "     X, y, test_size=0.2, random_state=18)\n",
    "\n",
    "# Fit logistic regression on train set\n",
    "log_reg = LogisticRegression(random_state=18,\n",
    "                            class_weight='balanced') # weights adjusted so they are inversely proportional to class frequencies\n",
    "log_reg.fit(X_train, y_train)\n",
    "\n",
    "# Predict on test set\n",
    "y_pred = log_reg.predict(X_test)\n",
    "\n",
    "print(metrics.classification_report(y_test, y_pred))"
   ]
  },
  {
   "cell_type": "code",
   "execution_count": 22,
   "metadata": {},
   "outputs": [
    {
     "name": "stdout",
     "output_type": "stream",
     "text": [
      "Accuracy: 0.896551724137931\n",
      "Precision: 0.44\n",
      "Recall: 0.9166666666666666\n"
     ]
    }
   ],
   "source": [
    "print(\"Accuracy:\",metrics.accuracy_score(y_test, y_pred))\n",
    "print(\"Precision:\",metrics.precision_score(y_test, y_pred))\n",
    "print(\"Recall:\",metrics.recall_score(y_test, y_pred))"
   ]
  },
  {
   "cell_type": "markdown",
   "metadata": {},
   "source": [
    "- For predicting fire type: the model has an f1-score of 59%; a precision of 44%; and a recall of 92%\n",
    "- For predicting non-fire type: the model has an f1-score of 94%; a precision of 99%; and a recall of 89%\n",
    "- Overall: accuracy of 89.7%, precision of 44%, and recall of 91.7%"
   ]
  },
  {
   "cell_type": "code",
   "execution_count": 23,
   "metadata": {},
   "outputs": [
    {
     "data": {
      "text/plain": [
       "<sklearn.metrics._plot.confusion_matrix.ConfusionMatrixDisplay at 0x1d04adfd070>"
      ]
     },
     "execution_count": 23,
     "metadata": {},
     "output_type": "execute_result"
    },
    {
     "data": {
      "image/png": "[encoded data removed]",
      "text/plain": [
       "<Figure size 432x288 with 2 Axes>"
      ]
     },
     "metadata": {
      "needs_background": "light"
     },
     "output_type": "display_data"
    }
   ],
   "source": [
    "metrics.plot_confusion_matrix(log_reg, X_test, y_test)"
   ]
  },
  {
   "cell_type": "markdown",
   "metadata": {},
   "source": [
    "#### 4. Describe the attributes and stats of all Legendary Type pokemon using boxplots. ( 5pts )"
   ]
  },
  {
   "cell_type": "code",
   "execution_count": 24,
   "metadata": {},
   "outputs": [],
   "source": [
    "legendary = df.loc[df['isLegendary']==True]"
   ]
  },
  {
   "cell_type": "code",
   "execution_count": 25,
   "metadata": {},
   "outputs": [
    {
     "data": {
      "text/plain": [
       "Number                int64\n",
       "Name                 object\n",
       "Type_1               object\n",
       "Type_2               object\n",
       "Total                 int64\n",
       "HP                    int64\n",
       "Attack                int64\n",
       "Defense               int64\n",
       "Sp_Atk                int64\n",
       "Sp_Def                int64\n",
       "Speed                 int64\n",
       "Generation            int64\n",
       "isLegendary            bool\n",
       "Color                object\n",
       "hasGender              bool\n",
       "Pr_Male             float64\n",
       "Egg_Group_1          object\n",
       "Egg_Group_2          object\n",
       "hasMegaEvolution       bool\n",
       "Height_m            float64\n",
       "Weight_kg           float64\n",
       "Catch_Rate            int64\n",
       "Body_Style           object\n",
       "Is_Fire             float64\n",
       "dtype: object"
      ]
     },
     "execution_count": 25,
     "metadata": {},
     "output_type": "execute_result"
    }
   ],
   "source": [
    "legendary.dtypes"
   ]
  },
  {
   "cell_type": "markdown",
   "metadata": {},
   "source": [
    "***Stats of legendary pokemon***"
   ]
  },
  {
   "cell_type": "code",
   "execution_count": 26,
   "metadata": {},
   "outputs": [
    {
     "data": {
      "text/html": [
       "<div>\n",
       "<style scoped>\n",
       "    .dataframe tbody tr th:only-of-type {\n",
       "        vertical-align: middle;\n",
       "    }\n",
       "\n",
       "    .dataframe tbody tr th {\n",
       "        vertical-align: top;\n",
       "    }\n",
       "\n",
       "    .dataframe thead th {\n",
       "        text-align: right;\n",
       "    }\n",
       "</style>\n",
       "<table border=\"1\" class=\"dataframe\">\n",
       "  <thead>\n",
       "    <tr style=\"text-align: right;\">\n",
       "      <th></th>\n",
       "      <th>Number</th>\n",
       "      <th>Total</th>\n",
       "      <th>HP</th>\n",
       "      <th>Attack</th>\n",
       "      <th>Defense</th>\n",
       "      <th>Sp_Atk</th>\n",
       "      <th>Sp_Def</th>\n",
       "      <th>Speed</th>\n",
       "      <th>Generation</th>\n",
       "      <th>Pr_Male</th>\n",
       "      <th>Height_m</th>\n",
       "      <th>Weight_kg</th>\n",
       "      <th>Catch_Rate</th>\n",
       "      <th>Is_Fire</th>\n",
       "    </tr>\n",
       "  </thead>\n",
       "  <tbody>\n",
       "    <tr>\n",
       "      <th>count</th>\n",
       "      <td>46.000000</td>\n",
       "      <td>46.000000</td>\n",
       "      <td>46.000000</td>\n",
       "      <td>46.000000</td>\n",
       "      <td>46.000000</td>\n",
       "      <td>46.000000</td>\n",
       "      <td>46.000000</td>\n",
       "      <td>46.000000</td>\n",
       "      <td>46.000000</td>\n",
       "      <td>6.00000</td>\n",
       "      <td>46.000000</td>\n",
       "      <td>46.000000</td>\n",
       "      <td>46.000000</td>\n",
       "      <td>46.000000</td>\n",
       "    </tr>\n",
       "    <tr>\n",
       "      <th>mean</th>\n",
       "      <td>468.652174</td>\n",
       "      <td>620.217391</td>\n",
       "      <td>94.000000</td>\n",
       "      <td>108.608696</td>\n",
       "      <td>101.586957</td>\n",
       "      <td>113.891304</td>\n",
       "      <td>106.543478</td>\n",
       "      <td>95.586957</td>\n",
       "      <td>3.782609</td>\n",
       "      <td>0.75000</td>\n",
       "      <td>2.449565</td>\n",
       "      <td>201.797826</td>\n",
       "      <td>6.652174</td>\n",
       "      <td>0.152174</td>\n",
       "    </tr>\n",
       "    <tr>\n",
       "      <th>std</th>\n",
       "      <td>175.654107</td>\n",
       "      <td>44.993290</td>\n",
       "      <td>18.808981</td>\n",
       "      <td>23.536712</td>\n",
       "      <td>26.525104</td>\n",
       "      <td>25.432462</td>\n",
       "      <td>27.236174</td>\n",
       "      <td>20.436977</td>\n",
       "      <td>1.474420</td>\n",
       "      <td>0.41833</td>\n",
       "      <td>1.723660</td>\n",
       "      <td>197.172328</td>\n",
       "      <td>11.965167</td>\n",
       "      <td>0.363158</td>\n",
       "    </tr>\n",
       "    <tr>\n",
       "      <th>min</th>\n",
       "      <td>144.000000</td>\n",
       "      <td>580.000000</td>\n",
       "      <td>50.000000</td>\n",
       "      <td>50.000000</td>\n",
       "      <td>50.000000</td>\n",
       "      <td>50.000000</td>\n",
       "      <td>50.000000</td>\n",
       "      <td>50.000000</td>\n",
       "      <td>1.000000</td>\n",
       "      <td>0.00000</td>\n",
       "      <td>0.200000</td>\n",
       "      <td>0.300000</td>\n",
       "      <td>3.000000</td>\n",
       "      <td>0.000000</td>\n",
       "    </tr>\n",
       "    <tr>\n",
       "      <th>25%</th>\n",
       "      <td>379.250000</td>\n",
       "      <td>580.000000</td>\n",
       "      <td>80.000000</td>\n",
       "      <td>90.000000</td>\n",
       "      <td>90.000000</td>\n",
       "      <td>96.250000</td>\n",
       "      <td>90.000000</td>\n",
       "      <td>90.000000</td>\n",
       "      <td>3.000000</td>\n",
       "      <td>0.62500</td>\n",
       "      <td>1.500000</td>\n",
       "      <td>56.550000</td>\n",
       "      <td>3.000000</td>\n",
       "      <td>0.000000</td>\n",
       "    </tr>\n",
       "    <tr>\n",
       "      <th>50%</th>\n",
       "      <td>483.500000</td>\n",
       "      <td>600.000000</td>\n",
       "      <td>91.000000</td>\n",
       "      <td>107.500000</td>\n",
       "      <td>100.000000</td>\n",
       "      <td>117.500000</td>\n",
       "      <td>100.000000</td>\n",
       "      <td>99.000000</td>\n",
       "      <td>4.000000</td>\n",
       "      <td>1.00000</td>\n",
       "      <td>1.960000</td>\n",
       "      <td>196.500000</td>\n",
       "      <td>3.000000</td>\n",
       "      <td>0.000000</td>\n",
       "    </tr>\n",
       "    <tr>\n",
       "      <th>75%</th>\n",
       "      <td>640.750000</td>\n",
       "      <td>677.500000</td>\n",
       "      <td>103.750000</td>\n",
       "      <td>123.750000</td>\n",
       "      <td>118.750000</td>\n",
       "      <td>130.000000</td>\n",
       "      <td>120.000000</td>\n",
       "      <td>108.000000</td>\n",
       "      <td>5.000000</td>\n",
       "      <td>1.00000</td>\n",
       "      <td>3.200000</td>\n",
       "      <td>293.750000</td>\n",
       "      <td>3.000000</td>\n",
       "      <td>0.000000</td>\n",
       "    </tr>\n",
       "    <tr>\n",
       "      <th>max</th>\n",
       "      <td>721.000000</td>\n",
       "      <td>720.000000</td>\n",
       "      <td>150.000000</td>\n",
       "      <td>160.000000</td>\n",
       "      <td>200.000000</td>\n",
       "      <td>154.000000</td>\n",
       "      <td>200.000000</td>\n",
       "      <td>150.000000</td>\n",
       "      <td>6.000000</td>\n",
       "      <td>1.00000</td>\n",
       "      <td>7.010000</td>\n",
       "      <td>950.000000</td>\n",
       "      <td>45.000000</td>\n",
       "      <td>1.000000</td>\n",
       "    </tr>\n",
       "  </tbody>\n",
       "</table>\n",
       "</div>"
      ],
      "text/plain": [
       "           Number       Total          HP      Attack     Defense      Sp_Atk  \\\n",
       "count   46.000000   46.000000   46.000000   46.000000   46.000000   46.000000   \n",
       "mean   468.652174  620.217391   94.000000  108.608696  101.586957  113.891304   \n",
       "std    175.654107   44.993290   18.808981   23.536712   26.525104   25.432462   \n",
       "min    144.000000  580.000000   50.000000   50.000000   50.000000   50.000000   \n",
       "25%    379.250000  580.000000   80.000000   90.000000   90.000000   96.250000   \n",
       "50%    483.500000  600.000000   91.000000  107.500000  100.000000  117.500000   \n",
       "75%    640.750000  677.500000  103.750000  123.750000  118.750000  130.000000   \n",
       "max    721.000000  720.000000  150.000000  160.000000  200.000000  154.000000   \n",
       "\n",
       "           Sp_Def       Speed  Generation  Pr_Male   Height_m   Weight_kg  \\\n",
       "count   46.000000   46.000000   46.000000  6.00000  46.000000   46.000000   \n",
       "mean   106.543478   95.586957    3.782609  0.75000   2.449565  201.797826   \n",
       "std     27.236174   20.436977    1.474420  0.41833   1.723660  197.172328   \n",
       "min     50.000000   50.000000    1.000000  0.00000   0.200000    0.300000   \n",
       "25%     90.000000   90.000000    3.000000  0.62500   1.500000   56.550000   \n",
       "50%    100.000000   99.000000    4.000000  1.00000   1.960000  196.500000   \n",
       "75%    120.000000  108.000000    5.000000  1.00000   3.200000  293.750000   \n",
       "max    200.000000  150.000000    6.000000  1.00000   7.010000  950.000000   \n",
       "\n",
       "       Catch_Rate    Is_Fire  \n",
       "count   46.000000  46.000000  \n",
       "mean     6.652174   0.152174  \n",
       "std     11.965167   0.363158  \n",
       "min      3.000000   0.000000  \n",
       "25%      3.000000   0.000000  \n",
       "50%      3.000000   0.000000  \n",
       "75%      3.000000   0.000000  \n",
       "max     45.000000   1.000000  "
      ]
     },
     "execution_count": 26,
     "metadata": {},
     "output_type": "execute_result"
    }
   ],
   "source": [
    "legendary.describe()"
   ]
  },
  {
   "cell_type": "code",
   "execution_count": 27,
   "metadata": {},
   "outputs": [
    {
     "data": {
      "image/png": "[encoded data removed]",
      "text/plain": [
       "<Figure size 432x216 with 1 Axes>"
      ]
     },
     "metadata": {
      "needs_background": "light"
     },
     "output_type": "display_data"
    },
    {
     "data": {
      "image/png": "[encoded data removed]",
      "text/plain": [
       "<Figure size 432x216 with 1 Axes>"
      ]
     },
     "metadata": {
      "needs_background": "light"
     },
     "output_type": "display_data"
    },
    {
     "data": {
      "image/png": "[encoded data removed]",
      "text/plain": [
       "<Figure size 432x216 with 1 Axes>"
      ]
     },
     "metadata": {
      "needs_background": "light"
     },
     "output_type": "display_data"
    },
    {
     "data": {
      "image/png": "[encoded data removed]",
      "text/plain": [
       "<Figure size 432x216 with 1 Axes>"
      ]
     },
     "metadata": {
      "needs_background": "light"
     },
     "output_type": "display_data"
    },
    {
     "data": {
      "image/png": "[encoded data removed]",
      "text/plain": [
       "<Figure size 432x216 with 1 Axes>"
      ]
     },
     "metadata": {
      "needs_background": "light"
     },
     "output_type": "display_data"
    },
    {
     "data": {
      "image/png": "[encoded data removed]",
      "text/plain": [
       "<Figure size 432x216 with 1 Axes>"
      ]
     },
     "metadata": {
      "needs_background": "light"
     },
     "output_type": "display_data"
    },
    {
     "data": {
      "image/png": "[encoded data removed]",
      "text/plain": [
       "<Figure size 432x216 with 1 Axes>"
      ]
     },
     "metadata": {
      "needs_background": "light"
     },
     "output_type": "display_data"
    },
    {
     "data": {
      "image/png": "[encoded data removed]",
      "text/plain": [
       "<Figure size 432x216 with 1 Axes>"
      ]
     },
     "metadata": {
      "needs_background": "light"
     },
     "output_type": "display_data"
    },
    {
     "data": {
      "image/png": "[encoded data removed]",
      "text/plain": [
       "<Figure size 432x216 with 1 Axes>"
      ]
     },
     "metadata": {
      "needs_background": "light"
     },
     "output_type": "display_data"
    },
    {
     "data": {
      "image/png": "[encoded data removed]",
      "text/plain": [
       "<Figure size 432x216 with 1 Axes>"
      ]
     },
     "metadata": {
      "needs_background": "light"
     },
     "output_type": "display_data"
    }
   ],
   "source": [
    "num_feat = ['Total', 'HP', 'Attack', 'Defense', 'Sp_Atk', 'Sp_Def', 'Speed', 'Height_m', 'Weight_kg', 'Catch_Rate']\n",
    "\n",
    "for i in num_feat:\n",
    "    _dict = legendary[i].describe().to_dict()\n",
    "    title = f\"{i}: mean of {np.round(_dict['mean'], 2)}, std of {np.round(_dict['std'], 2)}, \"\\\n",
    "            f\"Q1 of {_dict['25%']}, median of {_dict['50%']}, Q3 of {_dict['75%']}, \"\\\n",
    "            f\"min of {_dict['min']} and max of {_dict['max']}\"\n",
    "    plt.figure(i, figsize=(6,3))\n",
    "    plt.title(title, loc='center')\n",
    "    sns.boxplot(x=legendary[i])"
   ]
  },
  {
   "cell_type": "markdown",
   "metadata": {},
   "source": [
    "***Attributes of legendary pokemon***"
   ]
  },
  {
   "cell_type": "code",
   "execution_count": 28,
   "metadata": {},
   "outputs": [
    {
     "data": {
      "image/png": "[encoded data removed]",
      "text/plain": [
       "<Figure size 432x216 with 1 Axes>"
      ]
     },
     "metadata": {
      "needs_background": "light"
     },
     "output_type": "display_data"
    },
    {
     "data": {
      "image/png": "[encoded data removed]",
      "text/plain": [
       "<Figure size 432x216 with 1 Axes>"
      ]
     },
     "metadata": {
      "needs_background": "light"
     },
     "output_type": "display_data"
    },
    {
     "data": {
      "image/png": "[encoded data removed]",
      "text/plain": [
       "<Figure size 432x216 with 1 Axes>"
      ]
     },
     "metadata": {
      "needs_background": "light"
     },
     "output_type": "display_data"
    },
    {
     "data": {
      "image/png": "[encoded data removed]",
      "text/plain": [
       "<Figure size 432x216 with 1 Axes>"
      ]
     },
     "metadata": {
      "needs_background": "light"
     },
     "output_type": "display_data"
    }
   ],
   "source": [
    "cat_feat = ['Body_Style', 'Egg_Group_1', 'Color', 'Generation']\n",
    "\n",
    "for i in cat_feat:\n",
    "    plt.figure(i, figsize=(6,3))\n",
    "    plt.tight_layout()\n",
    "    ax = sns.barplot(x=legendary[i].value_counts().index, y=legendary[i].value_counts().values)\n",
    "    ax.tick_params(axis='x', rotation=30)\n",
    "    ax.set_title(i)"
   ]
  },
  {
   "cell_type": "markdown",
   "metadata": {},
   "source": [
    "### 5. Solve for the probabilities of each Pokemon being a Fire Type. ( 2pts )"
   ]
  },
  {
   "cell_type": "code",
   "execution_count": 29,
   "metadata": {},
   "outputs": [],
   "source": [
    "# Predict pokemon is fire type (1) or not (0)\n",
    "pred = log_reg.predict(X)\n",
    "\n",
    "# Predict probability pokemon is fire type\n",
    "prob = [x[1] for x in log_reg.predict_proba(X)]"
   ]
  },
  {
   "cell_type": "code",
   "execution_count": 30,
   "metadata": {},
   "outputs": [
    {
     "data": {
      "text/html": [
       "<div>\n",
       "<style scoped>\n",
       "    .dataframe tbody tr th:only-of-type {\n",
       "        vertical-align: middle;\n",
       "    }\n",
       "\n",
       "    .dataframe tbody tr th {\n",
       "        vertical-align: top;\n",
       "    }\n",
       "\n",
       "    .dataframe thead th {\n",
       "        text-align: right;\n",
       "    }\n",
       "</style>\n",
       "<table border=\"1\" class=\"dataframe\">\n",
       "  <thead>\n",
       "    <tr style=\"text-align: right;\">\n",
       "      <th></th>\n",
       "      <th>Name</th>\n",
       "      <th>Is_Fire</th>\n",
       "      <th>pred</th>\n",
       "      <th>prob_is_fire</th>\n",
       "    </tr>\n",
       "  </thead>\n",
       "  <tbody>\n",
       "    <tr>\n",
       "      <th>0</th>\n",
       "      <td>Bulbasaur</td>\n",
       "      <td>0.0</td>\n",
       "      <td>0.0</td>\n",
       "      <td>0.076633</td>\n",
       "    </tr>\n",
       "    <tr>\n",
       "      <th>1</th>\n",
       "      <td>Ivysaur</td>\n",
       "      <td>0.0</td>\n",
       "      <td>0.0</td>\n",
       "      <td>0.058905</td>\n",
       "    </tr>\n",
       "    <tr>\n",
       "      <th>2</th>\n",
       "      <td>Venusaur</td>\n",
       "      <td>0.0</td>\n",
       "      <td>0.0</td>\n",
       "      <td>0.022427</td>\n",
       "    </tr>\n",
       "    <tr>\n",
       "      <th>3</th>\n",
       "      <td>Charmander</td>\n",
       "      <td>1.0</td>\n",
       "      <td>1.0</td>\n",
       "      <td>0.905871</td>\n",
       "    </tr>\n",
       "    <tr>\n",
       "      <th>4</th>\n",
       "      <td>Charmeleon</td>\n",
       "      <td>1.0</td>\n",
       "      <td>1.0</td>\n",
       "      <td>0.886434</td>\n",
       "    </tr>\n",
       "    <tr>\n",
       "      <th>...</th>\n",
       "      <td>...</td>\n",
       "      <td>...</td>\n",
       "      <td>...</td>\n",
       "      <td>...</td>\n",
       "    </tr>\n",
       "    <tr>\n",
       "      <th>716</th>\n",
       "      <td>Yveltal</td>\n",
       "      <td>0.0</td>\n",
       "      <td>1.0</td>\n",
       "      <td>0.719613</td>\n",
       "    </tr>\n",
       "    <tr>\n",
       "      <th>717</th>\n",
       "      <td>Zygarde</td>\n",
       "      <td>0.0</td>\n",
       "      <td>0.0</td>\n",
       "      <td>0.003130</td>\n",
       "    </tr>\n",
       "    <tr>\n",
       "      <th>718</th>\n",
       "      <td>Diancie</td>\n",
       "      <td>0.0</td>\n",
       "      <td>0.0</td>\n",
       "      <td>0.166484</td>\n",
       "    </tr>\n",
       "    <tr>\n",
       "      <th>719</th>\n",
       "      <td>Hoopa</td>\n",
       "      <td>0.0</td>\n",
       "      <td>1.0</td>\n",
       "      <td>0.508914</td>\n",
       "    </tr>\n",
       "    <tr>\n",
       "      <th>720</th>\n",
       "      <td>Volcanion</td>\n",
       "      <td>1.0</td>\n",
       "      <td>1.0</td>\n",
       "      <td>0.945309</td>\n",
       "    </tr>\n",
       "  </tbody>\n",
       "</table>\n",
       "<p>721 rows × 4 columns</p>\n",
       "</div>"
      ],
      "text/plain": [
       "           Name  Is_Fire  pred  prob_is_fire\n",
       "0     Bulbasaur      0.0   0.0      0.076633\n",
       "1       Ivysaur      0.0   0.0      0.058905\n",
       "2      Venusaur      0.0   0.0      0.022427\n",
       "3    Charmander      1.0   1.0      0.905871\n",
       "4    Charmeleon      1.0   1.0      0.886434\n",
       "..          ...      ...   ...           ...\n",
       "716     Yveltal      0.0   1.0      0.719613\n",
       "717     Zygarde      0.0   0.0      0.003130\n",
       "718     Diancie      0.0   0.0      0.166484\n",
       "719       Hoopa      0.0   1.0      0.508914\n",
       "720   Volcanion      1.0   1.0      0.945309\n",
       "\n",
       "[721 rows x 4 columns]"
      ]
     },
     "execution_count": 30,
     "metadata": {},
     "output_type": "execute_result"
    }
   ],
   "source": [
    "df['pred'] = pred\n",
    "df['prob_is_fire'] = prob\n",
    "df[['Name', 'Is_Fire', 'pred', 'prob_is_fire']]"
   ]
  },
  {
   "cell_type": "markdown",
   "metadata": {},
   "source": [
    "The probability that each pokemon is fire is given in the column ``prob_is_fire``."
   ]
  },
  {
   "cell_type": "markdown",
   "metadata": {},
   "source": [
    "### 6. What is the accuracy of your model?( 2pts )"
   ]
  },
  {
   "cell_type": "code",
   "execution_count": 31,
   "metadata": {},
   "outputs": [
    {
     "data": {
      "text/plain": [
       "0.896551724137931"
      ]
     },
     "execution_count": 31,
     "metadata": {},
     "output_type": "execute_result"
    }
   ],
   "source": [
    "# Accuracy on test set\n",
    "metrics.accuracy_score(y_test, y_pred)"
   ]
  },
  {
   "cell_type": "markdown",
   "metadata": {},
   "source": [
    "The model has an accuracy of 89.7% on the test set."
   ]
  },
  {
   "cell_type": "code",
   "execution_count": 32,
   "metadata": {},
   "outputs": [
    {
     "data": {
      "text/plain": [
       "0.9056865464632455"
      ]
     },
     "execution_count": 32,
     "metadata": {},
     "output_type": "execute_result"
    }
   ],
   "source": [
    "# Accuracy on whole dataset\n",
    "metrics.accuracy_score(df['Is_Fire'], df['pred'])"
   ]
  },
  {
   "cell_type": "markdown",
   "metadata": {},
   "source": [
    "The model has an accuracy of 90.6% on the whole dataset."
   ]
  },
  {
   "cell_type": "markdown",
   "metadata": {},
   "source": [
    "### 7. Apply upsampling for the minority class that is Fire Type and show the change in Accuracy and Precision. ( 3pts )"
   ]
  },
  {
   "cell_type": "code",
   "execution_count": 33,
   "metadata": {},
   "outputs": [],
   "source": [
    "X = pd.concat([X_train, y_train], axis=1)\n",
    "\n",
    "# Separate minority and majority classes\n",
    "not_fire = X[X['Is_Fire']==False]\n",
    "fire = X[X['Is_Fire']==True]"
   ]
  },
  {
   "cell_type": "code",
   "execution_count": 34,
   "metadata": {},
   "outputs": [
    {
     "data": {
      "text/html": [
       "<div>\n",
       "<style scoped>\n",
       "    .dataframe tbody tr th:only-of-type {\n",
       "        vertical-align: middle;\n",
       "    }\n",
       "\n",
       "    .dataframe tbody tr th {\n",
       "        vertical-align: top;\n",
       "    }\n",
       "\n",
       "    .dataframe thead th {\n",
       "        text-align: right;\n",
       "    }\n",
       "</style>\n",
       "<table border=\"1\" class=\"dataframe\">\n",
       "  <thead>\n",
       "    <tr style=\"text-align: right;\">\n",
       "      <th></th>\n",
       "      <th>Total</th>\n",
       "      <th>HP</th>\n",
       "      <th>Attack</th>\n",
       "      <th>Defense</th>\n",
       "      <th>Sp_Atk</th>\n",
       "      <th>Sp_Def</th>\n",
       "      <th>Speed</th>\n",
       "      <th>Height_m</th>\n",
       "      <th>Weight_kg</th>\n",
       "      <th>Catch_Rate</th>\n",
       "      <th>...</th>\n",
       "      <th>Color_White</th>\n",
       "      <th>Color_Yellow</th>\n",
       "      <th>Generation_2</th>\n",
       "      <th>Generation_3</th>\n",
       "      <th>Generation_4</th>\n",
       "      <th>Generation_5</th>\n",
       "      <th>Generation_6</th>\n",
       "      <th>hasMegaEvolution</th>\n",
       "      <th>isLegendary</th>\n",
       "      <th>Is_Fire</th>\n",
       "    </tr>\n",
       "  </thead>\n",
       "  <tbody>\n",
       "    <tr>\n",
       "      <th>351</th>\n",
       "      <td>0.201246</td>\n",
       "      <td>-0.324426</td>\n",
       "      <td>0.517399</td>\n",
       "      <td>-0.027620</td>\n",
       "      <td>-0.303735</td>\n",
       "      <td>1.878302</td>\n",
       "      <td>-0.943332</td>\n",
       "      <td>-0.148498</td>\n",
       "      <td>-0.390563</td>\n",
       "      <td>1.303615</td>\n",
       "      <td>...</td>\n",
       "      <td>0</td>\n",
       "      <td>0</td>\n",
       "      <td>0</td>\n",
       "      <td>1</td>\n",
       "      <td>0</td>\n",
       "      <td>0</td>\n",
       "      <td>0</td>\n",
       "      <td>False</td>\n",
       "      <td>False</td>\n",
       "      <td>0.0</td>\n",
       "    </tr>\n",
       "    <tr>\n",
       "      <th>131</th>\n",
       "      <td>-1.185772</td>\n",
       "      <td>-0.788996</td>\n",
       "      <td>-0.932659</td>\n",
       "      <td>-0.779082</td>\n",
       "      <td>-0.720865</td>\n",
       "      <td>-0.788649</td>\n",
       "      <td>-0.649851</td>\n",
       "      <td>-0.809643</td>\n",
       "      <td>-0.592734</td>\n",
       "      <td>-0.852673</td>\n",
       "      <td>...</td>\n",
       "      <td>0</td>\n",
       "      <td>0</td>\n",
       "      <td>0</td>\n",
       "      <td>0</td>\n",
       "      <td>0</td>\n",
       "      <td>0</td>\n",
       "      <td>0</td>\n",
       "      <td>False</td>\n",
       "      <td>False</td>\n",
       "      <td>0.0</td>\n",
       "    </tr>\n",
       "    <tr>\n",
       "      <th>198</th>\n",
       "      <td>0.657502</td>\n",
       "      <td>1.030570</td>\n",
       "      <td>-0.000479</td>\n",
       "      <td>0.313954</td>\n",
       "      <td>1.086697</td>\n",
       "      <td>1.507892</td>\n",
       "      <td>-1.310183</td>\n",
       "      <td>0.828847</td>\n",
       "      <td>0.255258</td>\n",
       "      <td>-0.395279</td>\n",
       "      <td>...</td>\n",
       "      <td>0</td>\n",
       "      <td>0</td>\n",
       "      <td>1</td>\n",
       "      <td>0</td>\n",
       "      <td>0</td>\n",
       "      <td>0</td>\n",
       "      <td>0</td>\n",
       "      <td>False</td>\n",
       "      <td>False</td>\n",
       "      <td>0.0</td>\n",
       "    </tr>\n",
       "    <tr>\n",
       "      <th>442</th>\n",
       "      <td>-1.076271</td>\n",
       "      <td>-0.401854</td>\n",
       "      <td>-0.173105</td>\n",
       "      <td>-0.881555</td>\n",
       "      <td>-0.998951</td>\n",
       "      <td>-0.899772</td>\n",
       "      <td>-0.869962</td>\n",
       "      <td>-0.416789</td>\n",
       "      <td>-0.407411</td>\n",
       "      <td>-0.721989</td>\n",
       "      <td>...</td>\n",
       "      <td>0</td>\n",
       "      <td>0</td>\n",
       "      <td>0</td>\n",
       "      <td>0</td>\n",
       "      <td>1</td>\n",
       "      <td>0</td>\n",
       "      <td>0</td>\n",
       "      <td>False</td>\n",
       "      <td>False</td>\n",
       "      <td>0.0</td>\n",
       "    </tr>\n",
       "    <tr>\n",
       "      <th>80</th>\n",
       "      <td>-0.848143</td>\n",
       "      <td>-1.679421</td>\n",
       "      <td>-1.381486</td>\n",
       "      <td>-0.027620</td>\n",
       "      <td>0.912893</td>\n",
       "      <td>-0.529362</td>\n",
       "      <td>-0.759906</td>\n",
       "      <td>-0.809643</td>\n",
       "      <td>-0.570270</td>\n",
       "      <td>1.172931</td>\n",
       "      <td>...</td>\n",
       "      <td>0</td>\n",
       "      <td>0</td>\n",
       "      <td>0</td>\n",
       "      <td>0</td>\n",
       "      <td>0</td>\n",
       "      <td>0</td>\n",
       "      <td>0</td>\n",
       "      <td>False</td>\n",
       "      <td>False</td>\n",
       "      <td>0.0</td>\n",
       "    </tr>\n",
       "  </tbody>\n",
       "</table>\n",
       "<p>5 rows × 67 columns</p>\n",
       "</div>"
      ],
      "text/plain": [
       "        Total        HP    Attack   Defense    Sp_Atk    Sp_Def     Speed  \\\n",
       "351  0.201246 -0.324426  0.517399 -0.027620 -0.303735  1.878302 -0.943332   \n",
       "131 -1.185772 -0.788996 -0.932659 -0.779082 -0.720865 -0.788649 -0.649851   \n",
       "198  0.657502  1.030570 -0.000479  0.313954  1.086697  1.507892 -1.310183   \n",
       "442 -1.076271 -0.401854 -0.173105 -0.881555 -0.998951 -0.899772 -0.869962   \n",
       "80  -0.848143 -1.679421 -1.381486 -0.027620  0.912893 -0.529362 -0.759906   \n",
       "\n",
       "     Height_m  Weight_kg  Catch_Rate  ...  Color_White  Color_Yellow  \\\n",
       "351 -0.148498  -0.390563    1.303615  ...            0             0   \n",
       "131 -0.809643  -0.592734   -0.852673  ...            0             0   \n",
       "198  0.828847   0.255258   -0.395279  ...            0             0   \n",
       "442 -0.416789  -0.407411   -0.721989  ...            0             0   \n",
       "80  -0.809643  -0.570270    1.172931  ...            0             0   \n",
       "\n",
       "     Generation_2  Generation_3  Generation_4  Generation_5  Generation_6  \\\n",
       "351             0             1             0             0             0   \n",
       "131             0             0             0             0             0   \n",
       "198             1             0             0             0             0   \n",
       "442             0             0             1             0             0   \n",
       "80              0             0             0             0             0   \n",
       "\n",
       "     hasMegaEvolution  isLegendary  Is_Fire  \n",
       "351             False        False      0.0  \n",
       "131             False        False      0.0  \n",
       "198             False        False      0.0  \n",
       "442             False        False      0.0  \n",
       "80              False        False      0.0  \n",
       "\n",
       "[5 rows x 67 columns]"
      ]
     },
     "execution_count": 34,
     "metadata": {},
     "output_type": "execute_result"
    }
   ],
   "source": [
    "X.head()"
   ]
  },
  {
   "cell_type": "code",
   "execution_count": 35,
   "metadata": {},
   "outputs": [
    {
     "data": {
      "text/plain": [
       "1.0    532\n",
       "0.0    532\n",
       "Name: Is_Fire, dtype: int64"
      ]
     },
     "execution_count": 35,
     "metadata": {},
     "output_type": "execute_result"
    }
   ],
   "source": [
    "# upsample minority\n",
    "fire_upsampled = resample(fire,\n",
    "                          replace=True, # sample with replacement\n",
    "                          n_samples=len(not_fire), # match number in majority class\n",
    "                          random_state=18) # reproducible results\n",
    "\n",
    "# combine majority and upsampled minority\n",
    "fire_upsampled = pd.concat([not_fire, fire_upsampled])\n",
    "\n",
    "# check new class counts\n",
    "fire_upsampled['Is_Fire'].value_counts()"
   ]
  },
  {
   "cell_type": "code",
   "execution_count": 36,
   "metadata": {},
   "outputs": [
    {
     "name": "stdout",
     "output_type": "stream",
     "text": [
      "              precision    recall  f1-score   support\n",
      "\n",
      "         0.0       0.99      0.92      0.95       133\n",
      "         1.0       0.50      0.92      0.65        12\n",
      "\n",
      "    accuracy                           0.92       145\n",
      "   macro avg       0.75      0.92      0.80       145\n",
      "weighted avg       0.95      0.92      0.93       145\n",
      "\n"
     ]
    }
   ],
   "source": [
    "X_train = fire_upsampled.drop('Is_Fire', axis=1)\n",
    "y_train = fire_upsampled['Is_Fire']\n",
    "\n",
    "# Fit logistic regression on train set\n",
    "log_reg = LogisticRegression(random_state=18, class_weight='balanced')\n",
    "log_reg.fit(X_train, y_train)\n",
    "\n",
    "# Predict on test set\n",
    "upsampled_pred = log_reg.predict(X_test)\n",
    "\n",
    "print(metrics.classification_report(y_test, upsampled_pred))"
   ]
  },
  {
   "cell_type": "code",
   "execution_count": 37,
   "metadata": {},
   "outputs": [
    {
     "name": "stdout",
     "output_type": "stream",
     "text": [
      "Accuracy: 0.9172413793103448\n",
      "Precision: 0.5\n",
      "Recall: 0.9166666666666666\n"
     ]
    }
   ],
   "source": [
    "print(\"Accuracy:\",metrics.accuracy_score(y_test, upsampled_pred))\n",
    "print(\"Precision:\",metrics.precision_score(y_test, upsampled_pred))\n",
    "print(\"Recall:\",metrics.recall_score(y_test, upsampled_pred))"
   ]
  },
  {
   "cell_type": "markdown",
   "metadata": {},
   "source": [
    "Before upsampling:\n",
    "- For predicting fire type: the model has an f1-score of 59%; a precision of 44%; and a recall of 92%\n",
    "- For predicting non-fire type: the model has an f1-score of 94%; a precision of 99%; and a recall of 89%\n",
    "- Overall: accuracy of 89.7%, precision of 44%, and recall of 91.7%\n",
    "\n",
    "After upsampling:\n",
    "- For predicting fire type: the model has an f1-score of 65% (up by 6%); a precision of 50% (up by 6%); and a recall of 92% (same)\n",
    "- For predicting non-fire type: the model has an f1-score of 95% (up by 1%); a precision of 99% (same); and a recall of 92% (up by 3%)\n",
    "- Overall: accuracy of 91.7% (up by 2%), precision of 50% (up by 6%), and recall of 91.7% (same)\n",
    "- Thus, upsampling fire type pokemon improved classification performance"
   ]
  },
  {
   "cell_type": "code",
   "execution_count": 38,
   "metadata": {},
   "outputs": [
    {
     "data": {
      "text/plain": [
       "<sklearn.metrics._plot.confusion_matrix.ConfusionMatrixDisplay at 0x1d04add1400>"
      ]
     },
     "execution_count": 38,
     "metadata": {},
     "output_type": "execute_result"
    },
    {
     "data": {
      "image/png": "[encoded data removed]",
      "text/plain": [
       "<Figure size 432x288 with 2 Axes>"
      ]
     },
     "metadata": {
      "needs_background": "light"
     },
     "output_type": "display_data"
    }
   ],
   "source": [
    "metrics.plot_confusion_matrix(log_reg, X_test, y_test)"
   ]
  },
  {
   "cell_type": "markdown",
   "metadata": {},
   "source": [
    "### Bonus 1 : What is the difference between machine learning and pattern recognition? (1pt)\n",
    "Pattern recognition focuses on automated discovery of patterns and regularities in data. Machine learning is just one approach that can be used for pattern recognition. Machine learning focuses on computer algorithms learning through experience using data."
   ]
  },
  {
   "cell_type": "markdown",
   "metadata": {},
   "source": [
    "### Bonus 2:  Who is your favorite Pokemon?"
   ]
  },
  {
   "cell_type": "code",
   "execution_count": 40,
   "metadata": {},
   "outputs": [
    {
     "data": {
      "text/html": [
       "<div>\n",
       "<style scoped>\n",
       "    .dataframe tbody tr th:only-of-type {\n",
       "        vertical-align: middle;\n",
       "    }\n",
       "\n",
       "    .dataframe tbody tr th {\n",
       "        vertical-align: top;\n",
       "    }\n",
       "\n",
       "    .dataframe thead th {\n",
       "        text-align: right;\n",
       "    }\n",
       "</style>\n",
       "<table border=\"1\" class=\"dataframe\">\n",
       "  <thead>\n",
       "    <tr style=\"text-align: right;\">\n",
       "      <th></th>\n",
       "      <th>24</th>\n",
       "    </tr>\n",
       "  </thead>\n",
       "  <tbody>\n",
       "    <tr>\n",
       "      <th>Number</th>\n",
       "      <td>25</td>\n",
       "    </tr>\n",
       "    <tr>\n",
       "      <th>Name</th>\n",
       "      <td>Pikachu</td>\n",
       "    </tr>\n",
       "    <tr>\n",
       "      <th>Type_1</th>\n",
       "      <td>Electric</td>\n",
       "    </tr>\n",
       "    <tr>\n",
       "      <th>Type_2</th>\n",
       "      <td>NaN</td>\n",
       "    </tr>\n",
       "    <tr>\n",
       "      <th>Total</th>\n",
       "      <td>320</td>\n",
       "    </tr>\n",
       "    <tr>\n",
       "      <th>HP</th>\n",
       "      <td>35</td>\n",
       "    </tr>\n",
       "    <tr>\n",
       "      <th>Attack</th>\n",
       "      <td>55</td>\n",
       "    </tr>\n",
       "    <tr>\n",
       "      <th>Defense</th>\n",
       "      <td>40</td>\n",
       "    </tr>\n",
       "    <tr>\n",
       "      <th>Sp_Atk</th>\n",
       "      <td>50</td>\n",
       "    </tr>\n",
       "    <tr>\n",
       "      <th>Sp_Def</th>\n",
       "      <td>50</td>\n",
       "    </tr>\n",
       "    <tr>\n",
       "      <th>Speed</th>\n",
       "      <td>90</td>\n",
       "    </tr>\n",
       "    <tr>\n",
       "      <th>Generation</th>\n",
       "      <td>1</td>\n",
       "    </tr>\n",
       "    <tr>\n",
       "      <th>isLegendary</th>\n",
       "      <td>False</td>\n",
       "    </tr>\n",
       "    <tr>\n",
       "      <th>Color</th>\n",
       "      <td>Yellow</td>\n",
       "    </tr>\n",
       "    <tr>\n",
       "      <th>hasGender</th>\n",
       "      <td>True</td>\n",
       "    </tr>\n",
       "    <tr>\n",
       "      <th>Pr_Male</th>\n",
       "      <td>0.5</td>\n",
       "    </tr>\n",
       "    <tr>\n",
       "      <th>Egg_Group_1</th>\n",
       "      <td>Field</td>\n",
       "    </tr>\n",
       "    <tr>\n",
       "      <th>Egg_Group_2</th>\n",
       "      <td>Fairy</td>\n",
       "    </tr>\n",
       "    <tr>\n",
       "      <th>hasMegaEvolution</th>\n",
       "      <td>False</td>\n",
       "    </tr>\n",
       "    <tr>\n",
       "      <th>Height_m</th>\n",
       "      <td>0.41</td>\n",
       "    </tr>\n",
       "    <tr>\n",
       "      <th>Weight_kg</th>\n",
       "      <td>6</td>\n",
       "    </tr>\n",
       "    <tr>\n",
       "      <th>Catch_Rate</th>\n",
       "      <td>190</td>\n",
       "    </tr>\n",
       "    <tr>\n",
       "      <th>Body_Style</th>\n",
       "      <td>quadruped</td>\n",
       "    </tr>\n",
       "    <tr>\n",
       "      <th>Is_Fire</th>\n",
       "      <td>0</td>\n",
       "    </tr>\n",
       "    <tr>\n",
       "      <th>pred</th>\n",
       "      <td>0</td>\n",
       "    </tr>\n",
       "    <tr>\n",
       "      <th>prob_is_fire</th>\n",
       "      <td>0.347234</td>\n",
       "    </tr>\n",
       "  </tbody>\n",
       "</table>\n",
       "</div>"
      ],
      "text/plain": [
       "                         24\n",
       "Number                   25\n",
       "Name                Pikachu\n",
       "Type_1             Electric\n",
       "Type_2                  NaN\n",
       "Total                   320\n",
       "HP                       35\n",
       "Attack                   55\n",
       "Defense                  40\n",
       "Sp_Atk                   50\n",
       "Sp_Def                   50\n",
       "Speed                    90\n",
       "Generation                1\n",
       "isLegendary           False\n",
       "Color                Yellow\n",
       "hasGender              True\n",
       "Pr_Male                 0.5\n",
       "Egg_Group_1           Field\n",
       "Egg_Group_2           Fairy\n",
       "hasMegaEvolution      False\n",
       "Height_m               0.41\n",
       "Weight_kg                 6\n",
       "Catch_Rate              190\n",
       "Body_Style        quadruped\n",
       "Is_Fire                   0\n",
       "pred                      0\n",
       "prob_is_fire       0.347234"
      ]
     },
     "execution_count": 40,
     "metadata": {},
     "output_type": "execute_result"
    }
   ],
   "source": [
    "df.loc[df['Name']=='Pikachu'].T"
   ]
  }
 ],
 "metadata": {
  "kernelspec": {
   "display_name": "Python 3",
   "language": "python",
   "name": "python3"
  },
  "language_info": {
   "codemirror_mode": {
    "name": "ipython",
    "version": 3
   },
   "file_extension": ".py",
   "mimetype": "text/x-python",
   "name": "python",
   "nbconvert_exporter": "python",
   "pygments_lexer": "ipython3",
   "version": "3.8.5"
  }
 },
 "nbformat": 4,
 "nbformat_minor": 4
}
