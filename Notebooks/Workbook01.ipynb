{
 "cells": [
  {
   "cell_type": "markdown",
   "id": "third-score",
   "metadata": {},
   "source": [
    "# Workbook 01\n",
    "\n",
    "---\n",
    "The following problem set will focus on the lessons on Python and basic string manipulation. Answer the following guide questions by writing functions or code in cells that accomplish the requirements.\n",
    "\n",
    "1. Write a function to check whether a string is a palindrome. (A palindrome is a string that reads the same forwards and backwards) **1 pt.**\n",
    "\n",
    "2. Write a function that checks whether a number is prime or not **1 pt.**\n",
    "\n",
    "3. Load `data/allstar.txt` and create a dictionary where the keys are the verses or chorus numbers, and the values are the chords for that part of the song. **4 pts.**\n",
    "`{ \"verse1\": \"Am, C, D, G, F, G, G, Bm\", \"chorus1\": \"C, Am, G, D, C, Am, G, D, C\"..}`\n",
    "\n",
    "4. Build a dictionary from `data/allstar.txt` where the keys are the unique words, and the values are the number of times the word appeared in the song. **4 pts.**\n",
    "\n",
    "5. Load `Rick Astley - Never Gonna Give You Up Lyrics _ AZLyrics.com.html` and find out the ff (show the code): **10 pts.**\n",
    "       - How many unique words are there?\n",
    "       - List what will Rick Astley never do?\n",
    "       - Write a function that lists all the unique words and counts the num of occurences. Output the result as a dictionary similar to **Item 4.**\n",
    "       - Use the dictionary from above to create a word count histogram.\n",
    "       \n",
    "6. Create a function that takes in 3 parameters (integer n, integer a, integer b), and generates an nxn numpy matrix with random values from the range a to b inclusive. **2 pts.**\n",
    "       \n",
    "7. Create a 5x5 identity matrix **(1pt)**\n",
    "\n",
    "8. Create a function that lists the first n prime numbers **(2pts)**\n"
   ]
  },
  {
   "cell_type": "markdown",
   "id": "4f262b61-daa2-4fb8-894c-6fadbbb1f8fc",
   "metadata": {},
   "source": [
    "# Exploration Data Analysis Assignment 1\n",
    "#### Mannix Tapawan - MLE"
   ]
  },
  {
   "cell_type": "markdown",
   "id": "1cde5b6e-ff0c-4ff3-83c9-00ea0294a022",
   "metadata": {},
   "source": [
    "### 1. Write a function to check whether a string is a palindrome. (A palindrome is a string that reads the same forwards and backwards"
   ]
  },
  {
   "cell_type": "code",
   "execution_count": 4,
   "id": "50d5fab1-d314-420e-8141-087a4cc443c0",
   "metadata": {},
   "outputs": [
    {
     "name": "stdin",
     "output_type": "stream",
     "text": [
      "Enter a string:  racecar\n"
     ]
    },
    {
     "name": "stdout",
     "output_type": "stream",
     "text": [
      "racecar is a palinedrome!\n"
     ]
    }
   ],
   "source": [
    "string = input(\"Enter a string: \")\n",
    "\n",
    "\n",
    "def isPalindrome(s):\n",
    "    \"\"\"Checks if a string is a palindrome\n",
    "\n",
    "    Parameters:\n",
    "        s = input string to be checked\n",
    "    \"\"\"\n",
    "    if s == s[::-1]:\n",
    "        print(f\"{s} is a palinedrome!\")\n",
    "    else:\n",
    "        print(f\"{s} is not a palindrome!\")\n",
    "\n",
    "\n",
    "isPalindrome(string)"
   ]
  },
  {
   "cell_type": "markdown",
   "id": "78bc9e33-e4b4-4ee4-a80d-131e77dbbfcd",
   "metadata": {},
   "source": [
    "### 2. Write a function that checks whether a number is prime or not"
   ]
  },
  {
   "cell_type": "code",
   "execution_count": 5,
   "id": "ff3fbdb5-7eaa-4673-9db3-50e14d984ccf",
   "metadata": {},
   "outputs": [
    {
     "name": "stdin",
     "output_type": "stream",
     "text": [
      "Enter a number:  17\n"
     ]
    },
    {
     "name": "stdout",
     "output_type": "stream",
     "text": [
      "17 is prime\n"
     ]
    }
   ],
   "source": [
    "number = int(input(\"Enter a number: \"))\n",
    "\n",
    "\n",
    "def isPrime(x):\n",
    "    \"\"\"Checks if a number is prime\n",
    "\n",
    "    Parameters:\n",
    "        x = number to be checked\n",
    "    \"\"\"\n",
    "    if x > 1:\n",
    "        for i in range(2, int(x / 2) + 1):\n",
    "            if x % i == 0:\n",
    "                print(x, \"is not prime\")\n",
    "                break\n",
    "        else:\n",
    "            print(x, \"is prime\")\n",
    "    else:\n",
    "        print(x, \"is not prime\")\n",
    "\n",
    "\n",
    "isPrime(number)\n"
   ]
  },
  {
   "cell_type": "markdown",
   "id": "2cf59f0c-2255-4e64-bbc3-cf054b08be37",
   "metadata": {},
   "source": [
    "### 3. Load data/allstar.txt and create a dictionary where the keys are the verses or chorus numbers, and the values are the chords for that part of the song. 4 pts. { \"verse1\": \"Am, C, D, G, F, G, G, Bm\", \"chorus1\": \"C, Am, G, D, C, Am, G, D, C\"..}"
   ]
  },
  {
   "cell_type": "code",
   "execution_count": null,
   "id": "74861058-a574-4881-ad68-709f86d2922e",
   "metadata": {},
   "outputs": [],
   "source": []
  },
  {
   "cell_type": "markdown",
   "id": "fd0dd1dd-b875-4b58-ab12-1201f85c7109",
   "metadata": {},
   "source": [
    "### 4. Build a dictionary from data/allstar.txt where the keys are the unique words, and the values are the number of times the word appeared in the song"
   ]
  },
  {
   "cell_type": "code",
   "execution_count": null,
   "id": "a549ebfb-fd36-4ca7-8722-de43889e4dd3",
   "metadata": {},
   "outputs": [],
   "source": []
  },
  {
   "cell_type": "markdown",
   "id": "4bb5e7d4-3acb-42d6-9ab2-8aef63618d90",
   "metadata": {},
   "source": [
    "### 5. Load Rick Astley - Never Gonna Give You Up Lyrics _ AZLyrics.com.html and find out the ff (show the code): 10 pts.\n",
    "\n",
    "- How many unique words are there?\n",
    "- List what will Rick Astley never do?\n",
    "- Write a function that lists all the unique words and counts the num of occurences. Output the result as a dictionary similar to **Item 4.**\n",
    "- Use the dictionary from above to create a word count histogram."
   ]
  },
  {
   "cell_type": "code",
   "execution_count": null,
   "id": "fb9fe077-c33d-42af-91f5-d638fcebc5f9",
   "metadata": {},
   "outputs": [],
   "source": []
  },
  {
   "cell_type": "markdown",
   "id": "eec603e0-53d3-4bc8-946d-d97708d9f290",
   "metadata": {},
   "source": [
    "### 6. Create a function that takes in 3 parameters (integer n, integer a, integer b), and generates an nxn numpy matrix with random values from the range a to b inclusive."
   ]
  },
  {
   "cell_type": "code",
   "execution_count": 3,
   "id": "282d0a79-d0e5-453e-a227-f4569296b97b",
   "metadata": {},
   "outputs": [
    {
     "name": "stdin",
     "output_type": "stream",
     "text": [
      "Enter matrix size:  4\n",
      "Enter floor of range:  1\n",
      "Enter ceiling of range:  5\n"
     ]
    },
    {
     "name": "stdout",
     "output_type": "stream",
     "text": [
      "[[2 3 4 4]\n",
      " [5 3 5 5]\n",
      " [4 3 2 1]\n",
      " [2 3 2 2]]\n"
     ]
    }
   ],
   "source": [
    "import numpy as np\n",
    "\n",
    "n = int(input(\"Enter matrix size: \"))\n",
    "a = int(input(\"Enter floor of range: \"))\n",
    "b = int(input(\"Enter ceiling of range: \"))\n",
    "\n",
    "\n",
    "def numpyMatrix(n, a, b):\n",
    "    \"\"\"Creates a matrix of a desired size that ha\n",
    "    random values from a given range\n",
    "\n",
    "    Parameters:\n",
    "        n = size of matrix (n x n)\n",
    "        a = range lower limit\n",
    "        b = range upper limit\n",
    "    \"\"\"\n",
    "    print(np.random.randint(low=a, high=b + 1, size=(n, n)))\n",
    "\n",
    "\n",
    "numpyMatrix(n, a, b)"
   ]
  },
  {
   "cell_type": "markdown",
   "id": "0819c7b0-73fc-4147-a868-0ec38ed9edc1",
   "metadata": {},
   "source": [
    "### 7. Create a 5x5 identity matrix"
   ]
  },
  {
   "cell_type": "code",
   "execution_count": 1,
   "id": "690d058f-bc74-49cc-8772-6088db0fa494",
   "metadata": {},
   "outputs": [
    {
     "name": "stdout",
     "output_type": "stream",
     "text": [
      "[[1 0 0 0 0]\n",
      " [0 1 0 0 0]\n",
      " [0 0 1 0 0]\n",
      " [0 0 0 1 0]\n",
      " [0 0 0 0 1]]\n"
     ]
    }
   ],
   "source": [
    "import numpy as np\n",
    "\n",
    "\n",
    "def identityMatrix():\n",
    "    # Prints a 5x5 identity matrix\n",
    "    print(np.identity(5, dtype=int))\n",
    "\n",
    "\n",
    "identityMatrix()"
   ]
  },
  {
   "cell_type": "markdown",
   "id": "023670a6-1ec8-4565-a5d7-73de352605fa",
   "metadata": {},
   "source": [
    "### 8. Create a function that lists the first n prime numbers"
   ]
  },
  {
   "cell_type": "code",
   "execution_count": 2,
   "id": "e598ffbf-a816-4b7d-81b6-24d3a0896c85",
   "metadata": {},
   "outputs": [
    {
     "name": "stdin",
     "output_type": "stream",
     "text": [
      "Enter the number:  60\n",
      "Enter the number of prime factors:  6\n"
     ]
    },
    {
     "name": "stdout",
     "output_type": "stream",
     "text": [
      "2\n",
      "2\n",
      "3\n",
      "5\n",
      "N\n",
      "N\n"
     ]
    }
   ],
   "source": [
    "number = int(input(\"Enter the number: \"))\n",
    "n = int(input(\"Enter the number of prime factors: \"))\n",
    "\n",
    "\n",
    "def nPrimeFactors(num, n):\n",
    "    \"\"\"List a number (n) of prime factors\n",
    "\n",
    "    Parameters:\n",
    "        num = number\n",
    "        n = number of prime factors\n",
    "    \"\"\"\n",
    "    i = 2\n",
    "    ctr = 0\n",
    "    while num > 1:\n",
    "        if num % i == 0:\n",
    "            print(i)\n",
    "            num /= i\n",
    "            ctr += 1\n",
    "        else:\n",
    "            i += 1\n",
    "    \n",
    "    while ctr < n:\n",
    "        print('N')\n",
    "        ctr += 1\n",
    "\n",
    "\n",
    "nPrimeFactors(number, n)"
   ]
  },
  {
   "cell_type": "code",
   "execution_count": null,
   "id": "9bc4e7ce-d240-41f6-a381-1836153ce5aa",
   "metadata": {},
   "outputs": [],
   "source": []
  }
 ],
 "metadata": {
  "kernelspec": {
   "display_name": "Python 3 (ipykernel)",
   "language": "python",
   "name": "python3"
  },
  "language_info": {
   "codemirror_mode": {
    "name": "ipython",
    "version": 3
   },
   "file_extension": ".py",
   "mimetype": "text/x-python",
   "name": "python",
   "nbconvert_exporter": "python",
   "pygments_lexer": "ipython3",
   "version": "3.9.7"
  }
 },
 "nbformat": 4,
 "nbformat_minor": 5
}
