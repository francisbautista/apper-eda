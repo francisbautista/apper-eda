{
 "cells": [
  {
   "cell_type": "markdown",
   "id": "c90f2da5-630e-4076-b29b-5e024996bfdc",
   "metadata": {},
   "source": [
    "# Workbook 01\n",
    "\n",
    "---\n",
    "The following problem set will focus on the lessons on Python and basic string manipulation. Answer the following guide questions by writing functions or code in cells that accomplish the requirements."
   ]
  },
  {
   "cell_type": "markdown",
   "id": "36b69e1c-a7aa-463b-b0ec-a1e3c76467d4",
   "metadata": {},
   "source": [
    "#### **1. Write a function to check whether a string is a palindrome.** (A palindrome is a string that reads the same forwards and backwards) 1 pt ####\n",
    "---"
   ]
  },
  {
   "cell_type": "code",
   "execution_count": 19,
   "id": "incomplete-eligibility",
   "metadata": {},
   "outputs": [
    {
     "name": "stdout",
     "output_type": "stream",
     "text": [
      "\"reviver\" is a palindrome\n",
      "\"Racecar\" is not a palindrome\n",
      "\"it is not\" is not a palindrome\n",
      "\"123454321\" is a palindrome\n"
     ]
    }
   ],
   "source": [
    "def palindrome_test(string):\n",
    "    rev = string[::-1].lower()\n",
    "    if string == rev:\n",
    "        print(f'\"{string}\" is a palindrome')\n",
    "    else:\n",
    "        print(f'\"{string}\" is not a palindrome')\n",
    "    \n",
    "palindrome_test('reviver')\n",
    "palindrome_test('Racecar')\n",
    "palindrome_test('it is not')\n",
    "palindrome_test('123454321')"
   ]
  },
  {
   "cell_type": "markdown",
   "id": "d47b50f4-4ce0-4f93-bc9b-3e36d31bc268",
   "metadata": {},
   "source": [
    "#### **2. Write a function that checks whether a number is prime or not** 1 pt. ####\n",
    "---"
   ]
  },
  {
   "cell_type": "code",
   "execution_count": 20,
   "id": "6c5b5767-dd1e-4cd0-8929-00566d0664d8",
   "metadata": {},
   "outputs": [
    {
     "name": "stdout",
     "output_type": "stream",
     "text": [
      "0 is neither prime nor composite\n",
      "-1 is neither prime nor composite\n",
      "1 is neither prime nor composite\n",
      "2 is prime\n",
      "1039 is prime\n",
      "1043 is not prime\n"
     ]
    }
   ],
   "source": [
    "from math import sqrt\n",
    "\n",
    "def prime_test(num):\n",
    "    if num > 1:\n",
    "        for i in range(2, int(sqrt(num)) + 1):\n",
    "            if num % i == 0:\n",
    "                print(f'{num} is not prime')\n",
    "                break\n",
    "        else:\n",
    "            print(f'{num} is prime')\n",
    "    else:\n",
    "        print(f'{num} is neither prime nor composite')\n",
    "                      \n",
    "prime_test(0)\n",
    "prime_test(-1)\n",
    "prime_test(1)\n",
    "prime_test(2)\n",
    "prime_test(1039)\n",
    "prime_test(1043)  "
   ]
  },
  {
   "cell_type": "markdown",
   "id": "b9079ba5-6b50-4496-a4e9-95a828566d8f",
   "metadata": {},
   "source": [
    "#### **3. Load `data/allstar.txt` and create a dictionary where the keys are the verses or chorus numbers, and the values are the chords for that part of the song.** 4 pts. ####\n",
    "`{ \"verse1\": \"Am, C, D, G, F, G, G, Bm\", \"chorus1\": \"C, Am, G, D, C, Am, G, D, C\"..}`\n"
   ]
  },
  {
   "cell_type": "markdown",
   "id": "ee9b7730-98f2-4bad-9e25-45481d8cbc80",
   "metadata": {},
   "source": [
    "#### **4. Build a dictionary from `data/allstar.txt` where the keys are the unique words, and the values are the number of times the word appeared in the song.** 4 pts. ####"
   ]
  },
  {
   "cell_type": "markdown",
   "id": "01a594e2-82d2-4386-9415-3e548f615d78",
   "metadata": {},
   "source": [
    "#### **5. Load `Rick Astley - Never Gonna Give You Up Lyrics _ AZLyrics.com.html` and find out the ff (show the code):** 10 pts. ####\n",
    "- How many unique words are there?\n",
    "- List what will Rick Astley never do?\n",
    "- Write a function that lists all the unique words and counts the num of occurences. Output the result as a dictionary similar to **Item 4.**\n",
    "- Use the dictionary from above to create a word count histogram."
   ]
  },
  {
   "cell_type": "markdown",
   "id": "f7c6cc6b-dae7-4ffa-b8d5-470d25602073",
   "metadata": {},
   "source": [
    "#### **6.Create a function that takes in 3 parameters (integer n, integer a, integer b), and generates an nxn numpy matrix with random values from the range a to b inclusive.** 2 pts. ####\n",
    "---"
   ]
  },
  {
   "cell_type": "code",
   "execution_count": 21,
   "id": "a4f33989-f1b7-478a-a1e0-dd6f16fffc13",
   "metadata": {},
   "outputs": [
    {
     "name": "stdout",
     "output_type": "stream",
     "text": [
      "[[4 2 4 1]\n",
      " [2 5 4 5]\n",
      " [5 5 2 2]\n",
      " [4 3 5 1]]\n"
     ]
    }
   ],
   "source": [
    "import numpy as np\n",
    "\n",
    "def numpy_array(size, lower_bound, upper_bound):\n",
    "    if lower_bound <= upper_bound:\n",
    "        array = np.random.randint(lower_bound, upper_bound + 1, size=(size, size))\n",
    "        print(array)\n",
    "    else:\n",
    "        raise ValueError(f'Lower bound must be less than or equal to upper bound')\n",
    "        \n",
    "numpy_array(4,1,5)\n",
    "# numpy_array(4,6,5)"
   ]
  },
  {
   "cell_type": "markdown",
   "id": "e0d981b3-d68d-4b1b-a4e0-02e2241b5df7",
   "metadata": {},
   "source": [
    "#### **7. Create a 5x5 identity matrix** (1pt) ####"
   ]
  },
  {
   "cell_type": "code",
   "execution_count": 22,
   "id": "ff676b9b-188b-4cf3-ba94-dcfdffa07359",
   "metadata": {},
   "outputs": [
    {
     "data": {
      "text/plain": [
       "[[1, 0, 0, 0, 0],\n",
       " [0, 1, 0, 0, 0],\n",
       " [0, 0, 1, 0, 0],\n",
       " [0, 0, 0, 1, 0],\n",
       " [0, 0, 0, 0, 1]]"
      ]
     },
     "execution_count": 22,
     "metadata": {},
     "output_type": "execute_result"
    }
   ],
   "source": [
    "mx = [[1 if i == j else 0 for j in range(5)] for i in range(5)]\n",
    "mx"
   ]
  },
  {
   "cell_type": "markdown",
   "id": "6e632716-e8cc-45de-a6b4-e1a1b4c3e94b",
   "metadata": {},
   "source": [
    "#### **8. Create a function that lists the first n prime numbers** (2pts) ####"
   ]
  },
  {
   "cell_type": "code",
   "execution_count": 24,
   "id": "14c004a7-9a72-418e-ac4f-0f00c8e2a9cd",
   "metadata": {},
   "outputs": [
    {
     "name": "stdout",
     "output_type": "stream",
     "text": [
      "[]\n",
      "[2]\n",
      "[2, 3, 5, 7, 11, 13, 17, 19, 23, 29]\n"
     ]
    }
   ],
   "source": [
    "def prime_list(count):\n",
    "    primes = []\n",
    "    num = 2\n",
    "    while len(primes) < count:\n",
    "        for i in primes:\n",
    "            if num % i == 0:\n",
    "                break\n",
    "        else:\n",
    "            primes += [num]\n",
    "        num += 1\n",
    "    return primes\n",
    "\n",
    "print(prime_list(0))\n",
    "print(prime_list(1))\n",
    "print(prime_list(10))"
   ]
  },
  {
   "cell_type": "code",
   "execution_count": null,
   "id": "d3c0b95c-b3dd-47b2-9878-ca5d6160066f",
   "metadata": {},
   "outputs": [],
   "source": []
  }
 ],
 "metadata": {
  "kernelspec": {
   "display_name": "Python 3 (ipykernel)",
   "language": "python",
   "name": "python3"
  },
  "language_info": {
   "codemirror_mode": {
    "name": "ipython",
    "version": 3
   },
   "file_extension": ".py",
   "mimetype": "text/x-python",
   "name": "python",
   "nbconvert_exporter": "python",
   "pygments_lexer": "ipython3",
   "version": "3.9.7"
  },
  "toc-autonumbering": false,
  "toc-showcode": true
 },
 "nbformat": 4,
 "nbformat_minor": 5
}
