{
 "cells": [
  {
   "cell_type": "markdown",
   "metadata": {},
   "source": [
    "# Problem Set Unsupervised Learning\n",
    "\n",
    "## Requirements\n",
    "\n",
    "\n",
    ">Geospatial Analytics is a domain heavily used in corporate and business data science. It's used for demand-forecasting, real-estate prediction, population estimation, and optimal route planning..\n",
    "\n",
    "Using the lessons on DBSCAN, and the other resource notebooks, show the following in this Jupyter Notebook.\n",
    "\n",
    "Write your answers down as Markdown cells or comments in the code. Run everything on your own geospatial dataset, and answer the same questions listed above.\n",
    "Use this: https://developer.foursquare.com/docs/resources/categories\n",
    "\n",
    "1. What are the top 3 most common brands of your category?( 1pt )\n",
    "\n",
    "2. What is the latitude variance and longitude variance, and explain why these variances are different. ( 3pts )\n",
    "\n",
    "3. Explain what KMeans inertia is and how different it is from DBSCAN epsilon. ( 4pts )\n",
    "\n",
    "4. Cluster the locations data with DBSCAN. ( 5pts )\n",
    "\n",
    "5. Present an analysis of the data following the DBSCAN results. ( 7pts )\n",
    " - explain what the clusters mean\n",
    " - what does the # of clusters tell us\n",
    " - what is this information useful for\n",
    "\n",
    "\n"
   ]
  },
  {
   "cell_type": "markdown",
   "metadata": {},
   "source": [
    "# conda install -c conda-forge folium \n"
   ]
  },
  {
   "cell_type": "code",
   "execution_count": 1,
   "metadata": {},
   "outputs": [],
   "source": [
    "import numpy as np\n",
    "from sklearn.cluster import KMeans\n",
    "import folium\n",
    "from folium import plugins\n",
    "import pandas as pd\n",
    "import seaborn as sns\n",
    "import matplotlib.pyplot as plt\n",
    "\n",
    "# Make the graphs a bit prettier, and bigger\n",
    "# pd.set_option('display.mpl_style', 'default')\n",
    "plt.style.use('ggplot')\n",
    "\n",
    "# This is necessary to show lots of columns in pandas 0.12. \n",
    "# Not necessary in pandas 0.13.\n",
    "pd.set_option('display.width', 5000) \n",
    "pd.set_option('display.max_columns', 60)\n",
    "\n",
    "plt.rcParams['figure.figsize'] = (15, 5)"
   ]
  },
  {
   "cell_type": "code",
   "execution_count": 3,
   "metadata": {},
   "outputs": [],
   "source": [
    "import pandas as pd\n",
    "import foursquare\n",
    "\n",
    "places = [\"14.73371, 121.06813\", \"14.73554, 121.01268\", \"14.72026, 120.96342\", \\\n",
    "          \"14.6922, 121.06212\", \"14.69037, 121.01732\", \"14.68954, 120.97063\", \\\n",
    "          \"14.65517, 121.05182\", \"14.65866, 121.01028\", \"14.64703, 120.9708\", \\\n",
    "          \"14.6364, 121.07414\", \"14.64819, 121.1174\", \"14.62361, 121.03998\", \\\n",
    "          \"14.61049, 120.9914\", \"14.60949, 121.10658\", \"14.60152, 121.05165\", \\\n",
    "          \"14.56946, 121.09491\", \"14.5776, 121.05972\", \"14.5771, 121.02865\", \\\n",
    "          \"14.5565, 121.02092\", \"14.55583, 121.02607\", \"14.55583, 121.02607\", \\\n",
    "          \"14.55002, 121.06126\", \"14.55002, 121.04581\", \"14.5241, 121.02127\", \\\n",
    "          \"14.47723, 121.02521\", \"14.44631, 121.00221\", \"14.40209, 121.02779\",\n",
    "          \"14.40209, 121.02779\", \"14.60974, 121.08002\", \"14.64969, 121.0747\"]\n",
    "topics = [\"fast food\", \"fastfood\", \"mcdo\", \"burger\", \"pizza\", \"chicken\", \"jollibee\", \"inasal\"]"
   ]
  },
  {
   "cell_type": "code",
   "execution_count": 4,
   "metadata": {},
   "outputs": [],
   "source": [
    "# Construct the client object\n",
    "client = foursquare.Foursquare(client_id='LK0U2PMB3ZFV3DH03TKBF2H04KUBRHFOZOZNHP5NWOESAALM', \n",
    "                               client_secret='PKNTSEUE5L4T533TSRI4JTNND3KQTOLGJAZVTTFT5EU3HCU4', \n",
    "                               redirect_uri='http://fondu.com/oauth/authorize')\n",
    "\n",
    "# Build the authorization url for your app\n",
    "auth_uri = client.oauth.auth_url()"
   ]
  },
  {
   "cell_type": "code",
   "execution_count": 6,
   "metadata": {},
   "outputs": [
    {
     "data": {
      "text/plain": [
       "240"
      ]
     },
     "execution_count": 6,
     "metadata": {},
     "output_type": "execute_result"
    }
   ],
   "source": [
    "len(response)"
   ]
  },
  {
   "cell_type": "code",
   "execution_count": 13,
   "metadata": {},
   "outputs": [
    {
     "data": {
      "text/plain": [
       "23"
      ]
     },
     "execution_count": 13,
     "metadata": {},
     "output_type": "execute_result"
    }
   ],
   "source": [
    "len(response[0][\"venues\"])"
   ]
  },
  {
   "cell_type": "code",
   "execution_count": 8,
   "metadata": {},
   "outputs": [],
   "source": [
    "data_list = []\n",
    "for x in range(len(response)):\n",
    "    try:\n",
    "        for i in range(len(response[x][\"venues\"])):\n",
    "            poi_id =  response[x][\"venues\"][i][\"id\"]\n",
    "            poi_name =  response[x][\"venues\"][i][\"name\"]\n",
    "            poi_lat =  response[x][\"venues\"][i][\"location\"][\"lat\"]\n",
    "            poi_lng =  response[x][\"venues\"][i][\"location\"][\"lng\"]\n",
    "            data_list.append([poi_id, poi_name, poi_lat, poi_lng])\n",
    "    except KeyError:\n",
    "        pass\n",
    "\n",
    "df = pd.DataFrame(data_list, columns=[\"id\", \"name\", \"lat\", \"lng\"])\n",
    "df = df.drop_duplicates()\n",
    "df[\"name\"] = df['name'].str.lower()"
   ]
  },
  {
   "cell_type": "code",
   "execution_count": 9,
   "metadata": {},
   "outputs": [
    {
     "data": {
      "text/html": [
       "<div>\n",
       "<style scoped>\n",
       "    .dataframe tbody tr th:only-of-type {\n",
       "        vertical-align: middle;\n",
       "    }\n",
       "\n",
       "    .dataframe tbody tr th {\n",
       "        vertical-align: top;\n",
       "    }\n",
       "\n",
       "    .dataframe thead th {\n",
       "        text-align: right;\n",
       "    }\n",
       "</style>\n",
       "<table border=\"1\" class=\"dataframe\">\n",
       "  <thead>\n",
       "    <tr style=\"text-align: right;\">\n",
       "      <th></th>\n",
       "      <th>id</th>\n",
       "      <th>name</th>\n",
       "      <th>lat</th>\n",
       "      <th>lng</th>\n",
       "    </tr>\n",
       "  </thead>\n",
       "  <tbody>\n",
       "    <tr>\n",
       "      <th>0</th>\n",
       "      <td>53a29eff498e6bc264a2f746</td>\n",
       "      <td>zeny's fast food</td>\n",
       "      <td>14.737028</td>\n",
       "      <td>121.051134</td>\n",
       "    </tr>\n",
       "    <tr>\n",
       "      <th>1</th>\n",
       "      <td>4d294f6c888af04da15eceaf</td>\n",
       "      <td>bodhi vegetarian health food house</td>\n",
       "      <td>14.733963</td>\n",
       "      <td>121.060023</td>\n",
       "    </tr>\n",
       "    <tr>\n",
       "      <th>2</th>\n",
       "      <td>5b231c1dfe63bd002c2ea6a6</td>\n",
       "      <td>limbooz food hub</td>\n",
       "      <td>14.735246</td>\n",
       "      <td>121.067870</td>\n",
       "    </tr>\n",
       "    <tr>\n",
       "      <th>3</th>\n",
       "      <td>4d29305d068e8cfaabc7cd4c</td>\n",
       "      <td>sm foodcourt</td>\n",
       "      <td>14.734557</td>\n",
       "      <td>121.059250</td>\n",
       "    </tr>\n",
       "    <tr>\n",
       "      <th>4</th>\n",
       "      <td>58dfc03b076be155f2ac96e4</td>\n",
       "      <td>rooftop food park</td>\n",
       "      <td>14.730262</td>\n",
       "      <td>121.060988</td>\n",
       "    </tr>\n",
       "    <tr>\n",
       "      <th>...</th>\n",
       "      <td>...</td>\n",
       "      <td>...</td>\n",
       "      <td>...</td>\n",
       "      <td>...</td>\n",
       "    </tr>\n",
       "    <tr>\n",
       "      <th>4349</th>\n",
       "      <td>52e45d7f498e24cdbaf9083b</td>\n",
       "      <td>jollibee</td>\n",
       "      <td>14.665184</td>\n",
       "      <td>121.068005</td>\n",
       "    </tr>\n",
       "    <tr>\n",
       "      <th>4350</th>\n",
       "      <td>52e8539c498ee17e3ca49919</td>\n",
       "      <td>jollibee</td>\n",
       "      <td>14.666467</td>\n",
       "      <td>121.070306</td>\n",
       "    </tr>\n",
       "    <tr>\n",
       "      <th>4352</th>\n",
       "      <td>5513acbb498e498a5fc3ebb1</td>\n",
       "      <td>jollibee</td>\n",
       "      <td>14.663453</td>\n",
       "      <td>121.073642</td>\n",
       "    </tr>\n",
       "    <tr>\n",
       "      <th>4355</th>\n",
       "      <td>59569c4435d3fc2b1f45a90a</td>\n",
       "      <td>jollibee tierra pura</td>\n",
       "      <td>14.664392</td>\n",
       "      <td>121.067870</td>\n",
       "    </tr>\n",
       "    <tr>\n",
       "      <th>4356</th>\n",
       "      <td>52992e4d498ede5cd8a8b399</td>\n",
       "      <td>jollibee</td>\n",
       "      <td>14.665309</td>\n",
       "      <td>121.067389</td>\n",
       "    </tr>\n",
       "  </tbody>\n",
       "</table>\n",
       "<p>3397 rows × 4 columns</p>\n",
       "</div>"
      ],
      "text/plain": [
       "                            id                                name        lat         lng\n",
       "0     53a29eff498e6bc264a2f746                    zeny's fast food  14.737028  121.051134\n",
       "1     4d294f6c888af04da15eceaf  bodhi vegetarian health food house  14.733963  121.060023\n",
       "2     5b231c1dfe63bd002c2ea6a6                    limbooz food hub  14.735246  121.067870\n",
       "3     4d29305d068e8cfaabc7cd4c                        sm foodcourt  14.734557  121.059250\n",
       "4     58dfc03b076be155f2ac96e4                   rooftop food park  14.730262  121.060988\n",
       "...                        ...                                 ...        ...         ...\n",
       "4349  52e45d7f498e24cdbaf9083b                            jollibee  14.665184  121.068005\n",
       "4350  52e8539c498ee17e3ca49919                            jollibee  14.666467  121.070306\n",
       "4352  5513acbb498e498a5fc3ebb1                            jollibee  14.663453  121.073642\n",
       "4355  59569c4435d3fc2b1f45a90a                jollibee tierra pura  14.664392  121.067870\n",
       "4356  52992e4d498ede5cd8a8b399                            jollibee  14.665309  121.067389\n",
       "\n",
       "[3397 rows x 4 columns]"
      ]
     },
     "execution_count": 9,
     "metadata": {},
     "output_type": "execute_result"
    }
   ],
   "source": [
    "df"
   ]
  },
  {
   "cell_type": "code",
   "execution_count": 2,
   "metadata": {},
   "outputs": [],
   "source": [
    "# SAMPLE ONLY: This assigns the coffeeshops data to a dataframe object that maps to the \"df\" variable\n",
    "df = pd.read_csv(\"data/coffeeshops.csv\")\n",
    "df = df.drop_duplicates()"
   ]
  },
  {
   "cell_type": "code",
   "execution_count": null,
   "metadata": {},
   "outputs": [],
   "source": []
  }
 ],
 "metadata": {
  "kernelspec": {
   "display_name": "Python 3 (ipykernel)",
   "language": "python",
   "name": "python3"
  },
  "language_info": {
   "codemirror_mode": {
    "name": "ipython",
    "version": 3
   },
   "file_extension": ".py",
   "mimetype": "text/x-python",
   "name": "python",
   "nbconvert_exporter": "python",
   "pygments_lexer": "ipython3",
   "version": "3.9.0"
  }
 },
 "nbformat": 4,
 "nbformat_minor": 4
}
